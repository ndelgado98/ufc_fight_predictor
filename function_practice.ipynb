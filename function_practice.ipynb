{
 "cells": [
  {
   "cell_type": "code",
   "execution_count": 1,
   "metadata": {},
   "outputs": [],
   "source": [
    "import pandas as pd\n",
    "import numpy as np\n",
    "import seaborn as sns\n",
    "import matplotlib.pyplot as plt\n",
    "from pickle import load\n",
    "pd.set_option('display.max_columns', 500)"
   ]
  },
  {
   "cell_type": "code",
   "execution_count": 2,
   "metadata": {},
   "outputs": [],
   "source": [
    "df = pd.read_csv('data_for_database.csv')"
   ]
  },
  {
   "cell_type": "code",
   "execution_count": 3,
   "metadata": {},
   "outputs": [
    {
     "data": {
      "text/html": [
       "<div>\n",
       "<style scoped>\n",
       "    .dataframe tbody tr th:only-of-type {\n",
       "        vertical-align: middle;\n",
       "    }\n",
       "\n",
       "    .dataframe tbody tr th {\n",
       "        vertical-align: top;\n",
       "    }\n",
       "\n",
       "    .dataframe thead th {\n",
       "        text-align: right;\n",
       "    }\n",
       "</style>\n",
       "<table border=\"1\" class=\"dataframe\">\n",
       "  <thead>\n",
       "    <tr style=\"text-align: right;\">\n",
       "      <th></th>\n",
       "      <th>name</th>\n",
       "      <th>height</th>\n",
       "      <th>weight</th>\n",
       "      <th>reach</th>\n",
       "      <th>age</th>\n",
       "      <th>dob</th>\n",
       "      <th>wins</th>\n",
       "      <th>losses</th>\n",
       "      <th>draws</th>\n",
       "      <th>str_landed_per_min</th>\n",
       "      <th>str_acc</th>\n",
       "      <th>str_absorb_per_min</th>\n",
       "      <th>str_def</th>\n",
       "      <th>td_avg</th>\n",
       "      <th>td_acc</th>\n",
       "      <th>td_def</th>\n",
       "      <th>sub_avg</th>\n",
       "      <th>win_percentage</th>\n",
       "    </tr>\n",
       "  </thead>\n",
       "  <tbody>\n",
       "    <tr>\n",
       "      <td>0</td>\n",
       "      <td>Aalon Cruz</td>\n",
       "      <td>1.83</td>\n",
       "      <td>145.0</td>\n",
       "      <td>1.98</td>\n",
       "      <td>30.44</td>\n",
       "      <td>1989-09-20</td>\n",
       "      <td>8</td>\n",
       "      <td>2</td>\n",
       "      <td>0</td>\n",
       "      <td>1.41</td>\n",
       "      <td>0.17</td>\n",
       "      <td>20.42</td>\n",
       "      <td>0.76</td>\n",
       "      <td>0.00</td>\n",
       "      <td>0.0</td>\n",
       "      <td>0.00</td>\n",
       "      <td>0.0</td>\n",
       "      <td>0.80</td>\n",
       "    </tr>\n",
       "    <tr>\n",
       "      <td>1</td>\n",
       "      <td>Aaron Brink</td>\n",
       "      <td>1.91</td>\n",
       "      <td>205.0</td>\n",
       "      <td>1.91</td>\n",
       "      <td>26.02</td>\n",
       "      <td>1974-11-12</td>\n",
       "      <td>25</td>\n",
       "      <td>20</td>\n",
       "      <td>0</td>\n",
       "      <td>0.00</td>\n",
       "      <td>0.00</td>\n",
       "      <td>2.17</td>\n",
       "      <td>0.50</td>\n",
       "      <td>0.00</td>\n",
       "      <td>0.0</td>\n",
       "      <td>1.00</td>\n",
       "      <td>0.0</td>\n",
       "      <td>0.56</td>\n",
       "    </tr>\n",
       "    <tr>\n",
       "      <td>2</td>\n",
       "      <td>Aaron Phillips</td>\n",
       "      <td>1.75</td>\n",
       "      <td>135.0</td>\n",
       "      <td>1.78</td>\n",
       "      <td>25.05</td>\n",
       "      <td>1989-08-05</td>\n",
       "      <td>8</td>\n",
       "      <td>1</td>\n",
       "      <td>0</td>\n",
       "      <td>15.33</td>\n",
       "      <td>0.82</td>\n",
       "      <td>8.00</td>\n",
       "      <td>0.70</td>\n",
       "      <td>0.00</td>\n",
       "      <td>0.0</td>\n",
       "      <td>0.67</td>\n",
       "      <td>0.0</td>\n",
       "      <td>0.89</td>\n",
       "    </tr>\n",
       "    <tr>\n",
       "      <td>3</td>\n",
       "      <td>Aaron Riley</td>\n",
       "      <td>1.73</td>\n",
       "      <td>155.0</td>\n",
       "      <td>1.75</td>\n",
       "      <td>32.63</td>\n",
       "      <td>1980-12-09</td>\n",
       "      <td>29</td>\n",
       "      <td>13</td>\n",
       "      <td>1</td>\n",
       "      <td>1.73</td>\n",
       "      <td>0.15</td>\n",
       "      <td>3.87</td>\n",
       "      <td>0.40</td>\n",
       "      <td>0.00</td>\n",
       "      <td>0.0</td>\n",
       "      <td>0.33</td>\n",
       "      <td>0.0</td>\n",
       "      <td>0.67</td>\n",
       "    </tr>\n",
       "    <tr>\n",
       "      <td>4</td>\n",
       "      <td>Aaron Rosa</td>\n",
       "      <td>1.93</td>\n",
       "      <td>205.0</td>\n",
       "      <td>1.98</td>\n",
       "      <td>28.76</td>\n",
       "      <td>1983-05-28</td>\n",
       "      <td>17</td>\n",
       "      <td>4</td>\n",
       "      <td>0</td>\n",
       "      <td>7.51</td>\n",
       "      <td>0.55</td>\n",
       "      <td>17.37</td>\n",
       "      <td>0.74</td>\n",
       "      <td>0.00</td>\n",
       "      <td>0.0</td>\n",
       "      <td>0.00</td>\n",
       "      <td>0.0</td>\n",
       "      <td>0.81</td>\n",
       "    </tr>\n",
       "    <tr>\n",
       "      <td>...</td>\n",
       "      <td>...</td>\n",
       "      <td>...</td>\n",
       "      <td>...</td>\n",
       "      <td>...</td>\n",
       "      <td>...</td>\n",
       "      <td>...</td>\n",
       "      <td>...</td>\n",
       "      <td>...</td>\n",
       "      <td>...</td>\n",
       "      <td>...</td>\n",
       "      <td>...</td>\n",
       "      <td>...</td>\n",
       "      <td>...</td>\n",
       "      <td>...</td>\n",
       "      <td>...</td>\n",
       "      <td>...</td>\n",
       "      <td>...</td>\n",
       "      <td>...</td>\n",
       "    </tr>\n",
       "    <tr>\n",
       "      <td>1961</td>\n",
       "      <td>Zane Frazier</td>\n",
       "      <td>1.96</td>\n",
       "      <td>250.0</td>\n",
       "      <td>1.96</td>\n",
       "      <td>6.52</td>\n",
       "      <td>1989-11-09</td>\n",
       "      <td>4</td>\n",
       "      <td>10</td>\n",
       "      <td>0</td>\n",
       "      <td>0.31</td>\n",
       "      <td>0.50</td>\n",
       "      <td>0.31</td>\n",
       "      <td>0.50</td>\n",
       "      <td>0.00</td>\n",
       "      <td>0.0</td>\n",
       "      <td>0.00</td>\n",
       "      <td>0.0</td>\n",
       "      <td>0.29</td>\n",
       "    </tr>\n",
       "    <tr>\n",
       "      <td>1962</td>\n",
       "      <td>Zarah Fairn</td>\n",
       "      <td>1.73</td>\n",
       "      <td>145.0</td>\n",
       "      <td>1.83</td>\n",
       "      <td>33.22</td>\n",
       "      <td>1986-12-12</td>\n",
       "      <td>6</td>\n",
       "      <td>3</td>\n",
       "      <td>0</td>\n",
       "      <td>3.87</td>\n",
       "      <td>0.48</td>\n",
       "      <td>3.87</td>\n",
       "      <td>0.48</td>\n",
       "      <td>0.00</td>\n",
       "      <td>0.0</td>\n",
       "      <td>0.00</td>\n",
       "      <td>0.0</td>\n",
       "      <td>0.67</td>\n",
       "    </tr>\n",
       "    <tr>\n",
       "      <td>1963</td>\n",
       "      <td>Zelim Imadaev</td>\n",
       "      <td>1.83</td>\n",
       "      <td>170.0</td>\n",
       "      <td>1.93</td>\n",
       "      <td>24.79</td>\n",
       "      <td>1995-01-25</td>\n",
       "      <td>8</td>\n",
       "      <td>1</td>\n",
       "      <td>0</td>\n",
       "      <td>3.84</td>\n",
       "      <td>0.45</td>\n",
       "      <td>3.84</td>\n",
       "      <td>0.45</td>\n",
       "      <td>1.52</td>\n",
       "      <td>1.0</td>\n",
       "      <td>1.00</td>\n",
       "      <td>0.0</td>\n",
       "      <td>0.89</td>\n",
       "    </tr>\n",
       "    <tr>\n",
       "      <td>1964</td>\n",
       "      <td>Zu Anyanwu</td>\n",
       "      <td>1.85</td>\n",
       "      <td>251.0</td>\n",
       "      <td>1.96</td>\n",
       "      <td>36.12</td>\n",
       "      <td>1981-08-05</td>\n",
       "      <td>14</td>\n",
       "      <td>4</td>\n",
       "      <td>0</td>\n",
       "      <td>2.47</td>\n",
       "      <td>0.44</td>\n",
       "      <td>2.47</td>\n",
       "      <td>0.44</td>\n",
       "      <td>0.00</td>\n",
       "      <td>0.0</td>\n",
       "      <td>0.00</td>\n",
       "      <td>0.0</td>\n",
       "      <td>0.78</td>\n",
       "    </tr>\n",
       "    <tr>\n",
       "      <td>1965</td>\n",
       "      <td>Zubaira Tukhugov</td>\n",
       "      <td>1.73</td>\n",
       "      <td>145.0</td>\n",
       "      <td>1.73</td>\n",
       "      <td>29.10</td>\n",
       "      <td>1991-01-15</td>\n",
       "      <td>18</td>\n",
       "      <td>4</td>\n",
       "      <td>1</td>\n",
       "      <td>8.36</td>\n",
       "      <td>0.76</td>\n",
       "      <td>8.36</td>\n",
       "      <td>0.76</td>\n",
       "      <td>0.00</td>\n",
       "      <td>0.0</td>\n",
       "      <td>0.00</td>\n",
       "      <td>0.0</td>\n",
       "      <td>0.78</td>\n",
       "    </tr>\n",
       "  </tbody>\n",
       "</table>\n",
       "<p>1966 rows × 18 columns</p>\n",
       "</div>"
      ],
      "text/plain": [
       "                  name  height  weight  reach    age         dob  wins  \\\n",
       "0           Aalon Cruz    1.83   145.0   1.98  30.44  1989-09-20     8   \n",
       "1          Aaron Brink    1.91   205.0   1.91  26.02  1974-11-12    25   \n",
       "2       Aaron Phillips    1.75   135.0   1.78  25.05  1989-08-05     8   \n",
       "3          Aaron Riley    1.73   155.0   1.75  32.63  1980-12-09    29   \n",
       "4           Aaron Rosa    1.93   205.0   1.98  28.76  1983-05-28    17   \n",
       "...                ...     ...     ...    ...    ...         ...   ...   \n",
       "1961      Zane Frazier    1.96   250.0   1.96   6.52  1989-11-09     4   \n",
       "1962       Zarah Fairn    1.73   145.0   1.83  33.22  1986-12-12     6   \n",
       "1963     Zelim Imadaev    1.83   170.0   1.93  24.79  1995-01-25     8   \n",
       "1964        Zu Anyanwu    1.85   251.0   1.96  36.12  1981-08-05    14   \n",
       "1965  Zubaira Tukhugov    1.73   145.0   1.73  29.10  1991-01-15    18   \n",
       "\n",
       "      losses  draws  str_landed_per_min  str_acc  str_absorb_per_min  str_def  \\\n",
       "0          2      0                1.41     0.17               20.42     0.76   \n",
       "1         20      0                0.00     0.00                2.17     0.50   \n",
       "2          1      0               15.33     0.82                8.00     0.70   \n",
       "3         13      1                1.73     0.15                3.87     0.40   \n",
       "4          4      0                7.51     0.55               17.37     0.74   \n",
       "...      ...    ...                 ...      ...                 ...      ...   \n",
       "1961      10      0                0.31     0.50                0.31     0.50   \n",
       "1962       3      0                3.87     0.48                3.87     0.48   \n",
       "1963       1      0                3.84     0.45                3.84     0.45   \n",
       "1964       4      0                2.47     0.44                2.47     0.44   \n",
       "1965       4      1                8.36     0.76                8.36     0.76   \n",
       "\n",
       "      td_avg  td_acc  td_def  sub_avg  win_percentage  \n",
       "0       0.00     0.0    0.00      0.0            0.80  \n",
       "1       0.00     0.0    1.00      0.0            0.56  \n",
       "2       0.00     0.0    0.67      0.0            0.89  \n",
       "3       0.00     0.0    0.33      0.0            0.67  \n",
       "4       0.00     0.0    0.00      0.0            0.81  \n",
       "...      ...     ...     ...      ...             ...  \n",
       "1961    0.00     0.0    0.00      0.0            0.29  \n",
       "1962    0.00     0.0    0.00      0.0            0.67  \n",
       "1963    1.52     1.0    1.00      0.0            0.89  \n",
       "1964    0.00     0.0    0.00      0.0            0.78  \n",
       "1965    0.00     0.0    0.00      0.0            0.78  \n",
       "\n",
       "[1966 rows x 18 columns]"
      ]
     },
     "execution_count": 3,
     "metadata": {},
     "output_type": "execute_result"
    }
   ],
   "source": [
    "df"
   ]
  },
  {
   "cell_type": "code",
   "execution_count": 4,
   "metadata": {},
   "outputs": [],
   "source": [
    "df['dob'] = pd.to_datetime(df['dob'], format='%Y-%M-%d').dt.date\n",
    "df['age'] = pd.datetime.now().date() - df['dob']\n",
    "df['age'] = round(df['age']/np.timedelta64(1,'Y'), 2)"
   ]
  },
  {
   "cell_type": "code",
   "execution_count": 5,
   "metadata": {},
   "outputs": [],
   "source": [
    "df.fillna(0, inplace=True)"
   ]
  },
  {
   "cell_type": "code",
   "execution_count": 6,
   "metadata": {},
   "outputs": [
    {
     "data": {
      "text/plain": [
       "18"
      ]
     },
     "execution_count": 6,
     "metadata": {},
     "output_type": "execute_result"
    }
   ],
   "source": [
    "df['wins'].loc[df['name'] == \"Israel Adesanya\"].values[0]"
   ]
  },
  {
   "cell_type": "code",
   "execution_count": null,
   "metadata": {},
   "outputs": [],
   "source": [
    "df['wins'][df['name'] == \"Israel Adesanya\"].values[0]"
   ]
  },
  {
   "cell_type": "code",
   "execution_count": null,
   "metadata": {},
   "outputs": [],
   "source": [
    "df[df['name'] == \"Tony Ferguson\"]"
   ]
  },
  {
   "cell_type": "code",
   "execution_count": null,
   "metadata": {},
   "outputs": [],
   "source": [
    "df[df['name'] == \"Justin Gaethje\"]"
   ]
  },
  {
   "cell_type": "code",
   "execution_count": null,
   "metadata": {},
   "outputs": [],
   "source": [
    "f1_name = \"Israel Adesanya\""
   ]
  },
  {
   "cell_type": "code",
   "execution_count": null,
   "metadata": {},
   "outputs": [],
   "source": [
    "f2_name = \"Yoel Romero\""
   ]
  },
  {
   "cell_type": "code",
   "execution_count": null,
   "metadata": {},
   "outputs": [],
   "source": [
    "f1_height = df['height'][df['name'] == \"Tony Ferguson\"].values[0]"
   ]
  },
  {
   "cell_type": "code",
   "execution_count": null,
   "metadata": {},
   "outputs": [],
   "source": [
    "f2_height = df['height'][df['name'] == \"Justin Gaethjie\"].values[0]"
   ]
  },
  {
   "cell_type": "code",
   "execution_count": null,
   "metadata": {},
   "outputs": [],
   "source": [
    "plt.figure(figsize=(15,3))\n",
    "plt.autoscale(enable=True, axis='x')\n",
    "plt.barh([f1_name, f2_name],[f1_height, f2_height])\n",
    "plt.show()"
   ]
  },
  {
   "cell_type": "code",
   "execution_count": null,
   "metadata": {},
   "outputs": [],
   "source": [
    "scaler = load(open('scaler.pkl', 'rb'))"
   ]
  },
  {
   "cell_type": "code",
   "execution_count": 20,
   "metadata": {},
   "outputs": [],
   "source": [
    "fighter_1 = df.loc[df['name'] == \"Israel Adesanya\"]\n",
    "fighter_2 = df.loc[df['name'] == \"Yoel Romero\"]"
   ]
  },
  {
   "cell_type": "code",
   "execution_count": 21,
   "metadata": {},
   "outputs": [
    {
     "data": {
      "text/html": [
       "<div>\n",
       "<style scoped>\n",
       "    .dataframe tbody tr th:only-of-type {\n",
       "        vertical-align: middle;\n",
       "    }\n",
       "\n",
       "    .dataframe tbody tr th {\n",
       "        vertical-align: top;\n",
       "    }\n",
       "\n",
       "    .dataframe thead th {\n",
       "        text-align: right;\n",
       "    }\n",
       "</style>\n",
       "<table border=\"1\" class=\"dataframe\">\n",
       "  <thead>\n",
       "    <tr style=\"text-align: right;\">\n",
       "      <th></th>\n",
       "      <th>name</th>\n",
       "      <th>height</th>\n",
       "      <th>weight</th>\n",
       "      <th>reach</th>\n",
       "      <th>age</th>\n",
       "      <th>dob</th>\n",
       "      <th>wins</th>\n",
       "      <th>losses</th>\n",
       "      <th>draws</th>\n",
       "      <th>str_landed_per_min</th>\n",
       "      <th>str_acc</th>\n",
       "      <th>str_absorb_per_min</th>\n",
       "      <th>str_def</th>\n",
       "      <th>td_avg</th>\n",
       "      <th>td_acc</th>\n",
       "      <th>td_def</th>\n",
       "      <th>sub_avg</th>\n",
       "      <th>win_percentage</th>\n",
       "    </tr>\n",
       "  </thead>\n",
       "  <tbody>\n",
       "    <tr>\n",
       "      <td>747</td>\n",
       "      <td>Israel Adesanya</td>\n",
       "      <td>1.93</td>\n",
       "      <td>185.0</td>\n",
       "      <td>2.03</td>\n",
       "      <td>31.21</td>\n",
       "      <td>1989-01-22</td>\n",
       "      <td>18</td>\n",
       "      <td>0</td>\n",
       "      <td>0</td>\n",
       "      <td>1.92</td>\n",
       "      <td>0.36</td>\n",
       "      <td>1.6</td>\n",
       "      <td>0.45</td>\n",
       "      <td>0.0</td>\n",
       "      <td>0.0</td>\n",
       "      <td>0.0</td>\n",
       "      <td>0.0</td>\n",
       "      <td>1.0</td>\n",
       "    </tr>\n",
       "  </tbody>\n",
       "</table>\n",
       "</div>"
      ],
      "text/plain": [
       "                name  height  weight  reach    age         dob  wins  losses  \\\n",
       "747  Israel Adesanya    1.93   185.0   2.03  31.21  1989-01-22    18       0   \n",
       "\n",
       "     draws  str_landed_per_min  str_acc  str_absorb_per_min  str_def  td_avg  \\\n",
       "747      0                1.92     0.36                 1.6     0.45     0.0   \n",
       "\n",
       "     td_acc  td_def  sub_avg  win_percentage  \n",
       "747     0.0     0.0      0.0             1.0  "
      ]
     },
     "execution_count": 21,
     "metadata": {},
     "output_type": "execute_result"
    }
   ],
   "source": [
    "fighter_1"
   ]
  },
  {
   "cell_type": "code",
   "execution_count": 22,
   "metadata": {},
   "outputs": [
    {
     "data": {
      "text/html": [
       "<div>\n",
       "<style scoped>\n",
       "    .dataframe tbody tr th:only-of-type {\n",
       "        vertical-align: middle;\n",
       "    }\n",
       "\n",
       "    .dataframe tbody tr th {\n",
       "        vertical-align: top;\n",
       "    }\n",
       "\n",
       "    .dataframe thead th {\n",
       "        text-align: right;\n",
       "    }\n",
       "</style>\n",
       "<table border=\"1\" class=\"dataframe\">\n",
       "  <thead>\n",
       "    <tr style=\"text-align: right;\">\n",
       "      <th></th>\n",
       "      <th>name</th>\n",
       "      <th>height</th>\n",
       "      <th>weight</th>\n",
       "      <th>reach</th>\n",
       "      <th>age</th>\n",
       "      <th>dob</th>\n",
       "      <th>wins</th>\n",
       "      <th>losses</th>\n",
       "      <th>draws</th>\n",
       "      <th>str_landed_per_min</th>\n",
       "      <th>str_acc</th>\n",
       "      <th>str_absorb_per_min</th>\n",
       "      <th>str_def</th>\n",
       "      <th>td_avg</th>\n",
       "      <th>td_acc</th>\n",
       "      <th>td_def</th>\n",
       "      <th>sub_avg</th>\n",
       "      <th>win_percentage</th>\n",
       "    </tr>\n",
       "  </thead>\n",
       "  <tbody>\n",
       "    <tr>\n",
       "      <td>1937</td>\n",
       "      <td>Yoel Romero</td>\n",
       "      <td>1.83</td>\n",
       "      <td>185.0</td>\n",
       "      <td>1.85</td>\n",
       "      <td>43.19</td>\n",
       "      <td>1977-01-30</td>\n",
       "      <td>12</td>\n",
       "      <td>5</td>\n",
       "      <td>0</td>\n",
       "      <td>1.6</td>\n",
       "      <td>0.45</td>\n",
       "      <td>1.6</td>\n",
       "      <td>0.45</td>\n",
       "      <td>0.0</td>\n",
       "      <td>0.0</td>\n",
       "      <td>0.0</td>\n",
       "      <td>0.0</td>\n",
       "      <td>0.71</td>\n",
       "    </tr>\n",
       "  </tbody>\n",
       "</table>\n",
       "</div>"
      ],
      "text/plain": [
       "             name  height  weight  reach    age         dob  wins  losses  \\\n",
       "1937  Yoel Romero    1.83   185.0   1.85  43.19  1977-01-30    12       5   \n",
       "\n",
       "      draws  str_landed_per_min  str_acc  str_absorb_per_min  str_def  td_avg  \\\n",
       "1937      0                 1.6     0.45                 1.6     0.45     0.0   \n",
       "\n",
       "      td_acc  td_def  sub_avg  win_percentage  \n",
       "1937     0.0     0.0      0.0            0.71  "
      ]
     },
     "execution_count": 22,
     "metadata": {},
     "output_type": "execute_result"
    }
   ],
   "source": [
    "fighter_2"
   ]
  },
  {
   "cell_type": "code",
   "execution_count": 24,
   "metadata": {},
   "outputs": [],
   "source": [
    "fighter_1.reset_index(drop=True, inplace=True)\n",
    "fighter_2.reset_index(drop=True, inplace=True)"
   ]
  },
  {
   "cell_type": "code",
   "execution_count": 25,
   "metadata": {},
   "outputs": [],
   "source": [
    "df_full = fighter_1.join(fighter_2, lsuffix='_x', rsuffix='_y')"
   ]
  },
  {
   "cell_type": "code",
   "execution_count": 26,
   "metadata": {},
   "outputs": [
    {
     "data": {
      "text/html": [
       "<div>\n",
       "<style scoped>\n",
       "    .dataframe tbody tr th:only-of-type {\n",
       "        vertical-align: middle;\n",
       "    }\n",
       "\n",
       "    .dataframe tbody tr th {\n",
       "        vertical-align: top;\n",
       "    }\n",
       "\n",
       "    .dataframe thead th {\n",
       "        text-align: right;\n",
       "    }\n",
       "</style>\n",
       "<table border=\"1\" class=\"dataframe\">\n",
       "  <thead>\n",
       "    <tr style=\"text-align: right;\">\n",
       "      <th></th>\n",
       "      <th>name_x</th>\n",
       "      <th>height_x</th>\n",
       "      <th>weight_x</th>\n",
       "      <th>reach_x</th>\n",
       "      <th>age_x</th>\n",
       "      <th>dob_x</th>\n",
       "      <th>wins_x</th>\n",
       "      <th>losses_x</th>\n",
       "      <th>draws_x</th>\n",
       "      <th>str_landed_per_min_x</th>\n",
       "      <th>str_acc_x</th>\n",
       "      <th>str_absorb_per_min_x</th>\n",
       "      <th>str_def_x</th>\n",
       "      <th>td_avg_x</th>\n",
       "      <th>td_acc_x</th>\n",
       "      <th>td_def_x</th>\n",
       "      <th>sub_avg_x</th>\n",
       "      <th>win_percentage_x</th>\n",
       "      <th>name_y</th>\n",
       "      <th>height_y</th>\n",
       "      <th>weight_y</th>\n",
       "      <th>reach_y</th>\n",
       "      <th>age_y</th>\n",
       "      <th>dob_y</th>\n",
       "      <th>wins_y</th>\n",
       "      <th>losses_y</th>\n",
       "      <th>draws_y</th>\n",
       "      <th>str_landed_per_min_y</th>\n",
       "      <th>str_acc_y</th>\n",
       "      <th>str_absorb_per_min_y</th>\n",
       "      <th>str_def_y</th>\n",
       "      <th>td_avg_y</th>\n",
       "      <th>td_acc_y</th>\n",
       "      <th>td_def_y</th>\n",
       "      <th>sub_avg_y</th>\n",
       "      <th>win_percentage_y</th>\n",
       "    </tr>\n",
       "  </thead>\n",
       "  <tbody>\n",
       "    <tr>\n",
       "      <td>0</td>\n",
       "      <td>Israel Adesanya</td>\n",
       "      <td>1.93</td>\n",
       "      <td>185.0</td>\n",
       "      <td>2.03</td>\n",
       "      <td>31.21</td>\n",
       "      <td>1989-01-22</td>\n",
       "      <td>18</td>\n",
       "      <td>0</td>\n",
       "      <td>0</td>\n",
       "      <td>1.92</td>\n",
       "      <td>0.36</td>\n",
       "      <td>1.6</td>\n",
       "      <td>0.45</td>\n",
       "      <td>0.0</td>\n",
       "      <td>0.0</td>\n",
       "      <td>0.0</td>\n",
       "      <td>0.0</td>\n",
       "      <td>1.0</td>\n",
       "      <td>Yoel Romero</td>\n",
       "      <td>1.83</td>\n",
       "      <td>185.0</td>\n",
       "      <td>1.85</td>\n",
       "      <td>43.19</td>\n",
       "      <td>1977-01-30</td>\n",
       "      <td>12</td>\n",
       "      <td>5</td>\n",
       "      <td>0</td>\n",
       "      <td>1.6</td>\n",
       "      <td>0.45</td>\n",
       "      <td>1.6</td>\n",
       "      <td>0.45</td>\n",
       "      <td>0.0</td>\n",
       "      <td>0.0</td>\n",
       "      <td>0.0</td>\n",
       "      <td>0.0</td>\n",
       "      <td>0.71</td>\n",
       "    </tr>\n",
       "  </tbody>\n",
       "</table>\n",
       "</div>"
      ],
      "text/plain": [
       "            name_x  height_x  weight_x  reach_x  age_x       dob_x  wins_x  \\\n",
       "0  Israel Adesanya      1.93     185.0     2.03  31.21  1989-01-22      18   \n",
       "\n",
       "   losses_x  draws_x  str_landed_per_min_x  str_acc_x  str_absorb_per_min_x  \\\n",
       "0         0        0                  1.92       0.36                   1.6   \n",
       "\n",
       "   str_def_x  td_avg_x  td_acc_x  td_def_x  sub_avg_x  win_percentage_x  \\\n",
       "0       0.45       0.0       0.0       0.0        0.0               1.0   \n",
       "\n",
       "        name_y  height_y  weight_y  reach_y  age_y       dob_y  wins_y  \\\n",
       "0  Yoel Romero      1.83     185.0     1.85  43.19  1977-01-30      12   \n",
       "\n",
       "   losses_y  draws_y  str_landed_per_min_y  str_acc_y  str_absorb_per_min_y  \\\n",
       "0         5        0                   1.6       0.45                   1.6   \n",
       "\n",
       "   str_def_y  td_avg_y  td_acc_y  td_def_y  sub_avg_y  win_percentage_y  \n",
       "0       0.45       0.0       0.0       0.0        0.0              0.71  "
      ]
     },
     "execution_count": 26,
     "metadata": {},
     "output_type": "execute_result"
    }
   ],
   "source": [
    "df_full"
   ]
  },
  {
   "cell_type": "code",
   "execution_count": 27,
   "metadata": {},
   "outputs": [],
   "source": [
    "df_full.drop(columns=['name_x','dob_x','wins_x','losses_x','draws_x',\n",
    "                      'name_y','dob_y','wins_y','losses_y','draws_y'], inplace=True)"
   ]
  },
  {
   "cell_type": "code",
   "execution_count": null,
   "metadata": {},
   "outputs": [],
   "source": []
  },
  {
   "cell_type": "code",
   "execution_count": null,
   "metadata": {},
   "outputs": [],
   "source": [
    "new_cols = ['height_diff','reach_diff','weight_diff','age_diff','str_landed_per_min_diff','str_acc_diff',\n",
    "            'str_absorb_per_min_diff','str_def_diff','td_avg_diff','td_acc_diff','td_def_diff',\n",
    "            'sub_avg_diff','win_percentage_diff']\n",
    "old_cols = [col.replace('_diff','') for col in new_cols]"
   ]
  },
  {
   "cell_type": "code",
   "execution_count": null,
   "metadata": {},
   "outputs": [],
   "source": [
    "df_diff = pd.DataFrame()\n",
    "for i in range(len(new_cols)):\n",
    "    df_diff[new_cols[i]] = fighter_1[old_cols[i]].values - fighter_2[old_cols[i]].values"
   ]
  },
  {
   "cell_type": "code",
   "execution_count": null,
   "metadata": {},
   "outputs": [],
   "source": [
    "df_diff"
   ]
  },
  {
   "cell_type": "code",
   "execution_count": null,
   "metadata": {},
   "outputs": [],
   "source": [
    "df_diff.shape"
   ]
  },
  {
   "cell_type": "code",
   "execution_count": null,
   "metadata": {},
   "outputs": [],
   "source": [
    "scaler = load(open('scaler.pkl', 'rb'))"
   ]
  },
  {
   "cell_type": "code",
   "execution_count": null,
   "metadata": {},
   "outputs": [],
   "source": [
    "data = scaler.transform(df_diff)"
   ]
  },
  {
   "cell_type": "code",
   "execution_count": null,
   "metadata": {},
   "outputs": [],
   "source": [
    "data"
   ]
  },
  {
   "cell_type": "code",
   "execution_count": null,
   "metadata": {},
   "outputs": [],
   "source": [
    "model = load(open('model.pkl', 'rb'))"
   ]
  },
  {
   "cell_type": "code",
   "execution_count": null,
   "metadata": {},
   "outputs": [],
   "source": [
    "prediction = model.predict(data)[0]"
   ]
  },
  {
   "cell_type": "code",
   "execution_count": null,
   "metadata": {},
   "outputs": [],
   "source": [
    "prediction"
   ]
  },
  {
   "cell_type": "code",
   "execution_count": null,
   "metadata": {},
   "outputs": [],
   "source": [
    "prob = model.predict_proba(data)"
   ]
  },
  {
   "cell_type": "code",
   "execution_count": null,
   "metadata": {},
   "outputs": [],
   "source": [
    "prob_win = round(prob[0][1], 2)\n",
    "prob_loss = round(prob[0][0], 2)"
   ]
  },
  {
   "cell_type": "code",
   "execution_count": null,
   "metadata": {},
   "outputs": [],
   "source": [
    "prob_win"
   ]
  },
  {
   "cell_type": "code",
   "execution_count": null,
   "metadata": {},
   "outputs": [],
   "source": [
    "fighter1_wins = df['wins'].loc[df['name'] == \"Israel Adesanya\"].values[0]\n",
    "fighter1_losses = df['draws'].loc[df['name'] == \"Israel Adesanya\"].values[0]\n",
    "fighter1_draws = df['losses'].loc[df['name'] == \"Israel Adesanya\"].values[0]\n",
    "\n",
    "fighter2_wins = df['wins'].loc[df['name'] == \"Yoel Romero\"].values[0]\n",
    "fighter2_losses = df['draws'].loc[df['name'] == \"Yoel Romero\"].values[0]\n",
    "fighter2_draws = df['losses'].loc[df['name'] == \"Yoel Romero\"].values[0]\n",
    "\n",
    "labels = ['Draws','Losses','Wins']\n",
    "fighter1_record = [fighter1_draws, fighter1_losses, fighter1_wins]\n",
    "fighter2_record = [fighter2_draws, fighter2_losses, fighter2_wins]"
   ]
  },
  {
   "cell_type": "code",
   "execution_count": null,
   "metadata": {},
   "outputs": [],
   "source": [
    "ind = np.arange(len(labels))\n",
    "width = 0.35\n",
    "fig, ax = plt.subplots(figsize=(16,6))\n",
    "ax.barh(ind, fighter1_record, width, label=\"Israel Adesanya\", color='blue')\n",
    "ax.barh(ind + width, fighter2_record, width, label=\"Yoel Romero\", color='red')\n",
    "ax.set(yticks=ind+width/2, yticklabels=labels, ylim=[2*width - 1, len(labels)])\n",
    "ax.legend(loc='upper center', bbox_to_anchor=(0.5, -0.05), shadow=False, ncol=2)"
   ]
  },
  {
   "cell_type": "code",
   "execution_count": null,
   "metadata": {},
   "outputs": [],
   "source": []
  }
 ],
 "metadata": {
  "kernelspec": {
   "display_name": "Python 3",
   "language": "python",
   "name": "python3"
  },
  "language_info": {
   "codemirror_mode": {
    "name": "ipython",
    "version": 3
   },
   "file_extension": ".py",
   "mimetype": "text/x-python",
   "name": "python",
   "nbconvert_exporter": "python",
   "pygments_lexer": "ipython3",
   "version": "3.6.9"
  }
 },
 "nbformat": 4,
 "nbformat_minor": 4
}
