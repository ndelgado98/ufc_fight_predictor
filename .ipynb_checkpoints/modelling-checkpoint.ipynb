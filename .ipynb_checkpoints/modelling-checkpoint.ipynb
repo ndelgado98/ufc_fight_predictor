{
 "cells": [
  {
   "cell_type": "code",
   "execution_count": 11,
   "metadata": {},
   "outputs": [],
   "source": [
    "import pandas as pd\n",
    "from datetime import date, timedelta\n",
    "import numpy as np\n",
    "import matplotlib.pyplot as plt\n",
    "import warnings\n",
    "import tensorflow as tf\n",
    "from tensorflow import keras\n",
    "from sklearn.model_selection import train_test_split\n",
    "from sklearn.preprocessing import StandardScaler\n",
    "from keras.models import Sequential\n",
    "from keras.layers import Dense, Dropout, Activation, Flatten\n",
    "from keras.layers import Convolution2D, MaxPooling2D\n",
    "from keras.optimizers import Adam\n",
    "from keras.regularizers import l2\n",
    "\n",
    "from sklearn.linear_model import LogisticRegression\n",
    "from sklearn.ensemble import RandomForestClassifier, VotingClassifier\n",
    "from sklearn.compose import ColumnTransformer\n",
    "from sklearn.svm import SVC\n",
    "from sklearn.neighbors import KNeighborsClassifier\n",
    "from sklearn.naive_bayes import GaussianNB\n",
    "from deslib.static.stacked import StackedClassifier\n",
    "\n",
    "import pickle\n",
    "\n",
    "pd.set_option('display.max_columns', 500)\n",
    "warnings.filterwarnings(\"ignore\")"
   ]
  },
  {
   "cell_type": "code",
   "execution_count": 12,
   "metadata": {},
   "outputs": [],
   "source": [
    "df = pd.read_csv('data_cleaned5.csv')"
   ]
  },
  {
   "cell_type": "code",
   "execution_count": 13,
   "metadata": {},
   "outputs": [
    {
     "data": {
      "text/html": [
       "<div>\n",
       "<style scoped>\n",
       "    .dataframe tbody tr th:only-of-type {\n",
       "        vertical-align: middle;\n",
       "    }\n",
       "\n",
       "    .dataframe tbody tr th {\n",
       "        vertical-align: top;\n",
       "    }\n",
       "\n",
       "    .dataframe thead th {\n",
       "        text-align: right;\n",
       "    }\n",
       "</style>\n",
       "<table border=\"1\" class=\"dataframe\">\n",
       "  <thead>\n",
       "    <tr style=\"text-align: right;\">\n",
       "      <th></th>\n",
       "      <th>fx_win</th>\n",
       "      <th>height_diff</th>\n",
       "      <th>weight_diff</th>\n",
       "      <th>reach_diff</th>\n",
       "      <th>fight_time_diff</th>\n",
       "      <th>age_diff</th>\n",
       "      <th>str_landed_per_min_diff</th>\n",
       "      <th>str_acc_diff</th>\n",
       "      <th>str_absorb_per_min_diff</th>\n",
       "      <th>str_def_diff</th>\n",
       "      <th>td_avg_diff</th>\n",
       "      <th>td_acc_diff</th>\n",
       "      <th>td_def_diff</th>\n",
       "      <th>sub_avg_diff</th>\n",
       "      <th>win_percentage_diff</th>\n",
       "    </tr>\n",
       "  </thead>\n",
       "  <tbody>\n",
       "    <tr>\n",
       "      <td>0</td>\n",
       "      <td>0</td>\n",
       "      <td>-0.03</td>\n",
       "      <td>0.0</td>\n",
       "      <td>0.00</td>\n",
       "      <td>12.22</td>\n",
       "      <td>-2.58</td>\n",
       "      <td>4.75</td>\n",
       "      <td>0.54</td>\n",
       "      <td>-3.38</td>\n",
       "      <td>0.15</td>\n",
       "      <td>0.00</td>\n",
       "      <td>0.00</td>\n",
       "      <td>-0.38</td>\n",
       "      <td>1.00</td>\n",
       "      <td>0.09</td>\n",
       "    </tr>\n",
       "    <tr>\n",
       "      <td>1</td>\n",
       "      <td>0</td>\n",
       "      <td>0.03</td>\n",
       "      <td>0.0</td>\n",
       "      <td>-0.03</td>\n",
       "      <td>5.28</td>\n",
       "      <td>-4.59</td>\n",
       "      <td>3.94</td>\n",
       "      <td>0.07</td>\n",
       "      <td>-2.84</td>\n",
       "      <td>-0.13</td>\n",
       "      <td>-1.54</td>\n",
       "      <td>-0.50</td>\n",
       "      <td>-0.25</td>\n",
       "      <td>-3.63</td>\n",
       "      <td>-0.13</td>\n",
       "    </tr>\n",
       "    <tr>\n",
       "      <td>2</td>\n",
       "      <td>1</td>\n",
       "      <td>0.03</td>\n",
       "      <td>0.0</td>\n",
       "      <td>0.00</td>\n",
       "      <td>-39.80</td>\n",
       "      <td>-3.88</td>\n",
       "      <td>-0.30</td>\n",
       "      <td>0.04</td>\n",
       "      <td>0.05</td>\n",
       "      <td>-0.02</td>\n",
       "      <td>0.50</td>\n",
       "      <td>-0.21</td>\n",
       "      <td>0.25</td>\n",
       "      <td>0.75</td>\n",
       "      <td>0.06</td>\n",
       "    </tr>\n",
       "    <tr>\n",
       "      <td>3</td>\n",
       "      <td>1</td>\n",
       "      <td>-0.02</td>\n",
       "      <td>0.0</td>\n",
       "      <td>-0.03</td>\n",
       "      <td>35.00</td>\n",
       "      <td>3.97</td>\n",
       "      <td>0.06</td>\n",
       "      <td>0.10</td>\n",
       "      <td>-0.89</td>\n",
       "      <td>0.03</td>\n",
       "      <td>1.26</td>\n",
       "      <td>0.38</td>\n",
       "      <td>0.58</td>\n",
       "      <td>0.42</td>\n",
       "      <td>-0.09</td>\n",
       "    </tr>\n",
       "    <tr>\n",
       "      <td>4</td>\n",
       "      <td>1</td>\n",
       "      <td>0.00</td>\n",
       "      <td>0.0</td>\n",
       "      <td>0.02</td>\n",
       "      <td>36.76</td>\n",
       "      <td>2.70</td>\n",
       "      <td>6.29</td>\n",
       "      <td>0.29</td>\n",
       "      <td>1.93</td>\n",
       "      <td>-0.08</td>\n",
       "      <td>1.11</td>\n",
       "      <td>0.38</td>\n",
       "      <td>-0.89</td>\n",
       "      <td>0.00</td>\n",
       "      <td>-0.02</td>\n",
       "    </tr>\n",
       "    <tr>\n",
       "      <td>...</td>\n",
       "      <td>...</td>\n",
       "      <td>...</td>\n",
       "      <td>...</td>\n",
       "      <td>...</td>\n",
       "      <td>...</td>\n",
       "      <td>...</td>\n",
       "      <td>...</td>\n",
       "      <td>...</td>\n",
       "      <td>...</td>\n",
       "      <td>...</td>\n",
       "      <td>...</td>\n",
       "      <td>...</td>\n",
       "      <td>...</td>\n",
       "      <td>...</td>\n",
       "      <td>...</td>\n",
       "    </tr>\n",
       "    <tr>\n",
       "      <td>3931</td>\n",
       "      <td>0</td>\n",
       "      <td>0.15</td>\n",
       "      <td>0.0</td>\n",
       "      <td>0.15</td>\n",
       "      <td>-10.04</td>\n",
       "      <td>-4.75</td>\n",
       "      <td>-2.44</td>\n",
       "      <td>-0.02</td>\n",
       "      <td>-2.24</td>\n",
       "      <td>0.00</td>\n",
       "      <td>-1.97</td>\n",
       "      <td>-0.01</td>\n",
       "      <td>-0.11</td>\n",
       "      <td>0.93</td>\n",
       "      <td>0.09</td>\n",
       "    </tr>\n",
       "    <tr>\n",
       "      <td>3932</td>\n",
       "      <td>1</td>\n",
       "      <td>0.05</td>\n",
       "      <td>15.0</td>\n",
       "      <td>0.03</td>\n",
       "      <td>-8.22</td>\n",
       "      <td>-1.67</td>\n",
       "      <td>-2.18</td>\n",
       "      <td>0.21</td>\n",
       "      <td>-2.18</td>\n",
       "      <td>0.21</td>\n",
       "      <td>-2.69</td>\n",
       "      <td>-0.80</td>\n",
       "      <td>-0.80</td>\n",
       "      <td>0.89</td>\n",
       "      <td>-0.35</td>\n",
       "    </tr>\n",
       "    <tr>\n",
       "      <td>3933</td>\n",
       "      <td>0</td>\n",
       "      <td>-0.10</td>\n",
       "      <td>0.0</td>\n",
       "      <td>0.00</td>\n",
       "      <td>30.00</td>\n",
       "      <td>-4.20</td>\n",
       "      <td>-2.36</td>\n",
       "      <td>-0.02</td>\n",
       "      <td>-2.36</td>\n",
       "      <td>-0.02</td>\n",
       "      <td>0.33</td>\n",
       "      <td>1.00</td>\n",
       "      <td>1.00</td>\n",
       "      <td>0.33</td>\n",
       "      <td>-0.03</td>\n",
       "    </tr>\n",
       "    <tr>\n",
       "      <td>3934</td>\n",
       "      <td>0</td>\n",
       "      <td>0.10</td>\n",
       "      <td>0.0</td>\n",
       "      <td>0.02</td>\n",
       "      <td>-18.24</td>\n",
       "      <td>-5.13</td>\n",
       "      <td>4.26</td>\n",
       "      <td>-0.06</td>\n",
       "      <td>4.26</td>\n",
       "      <td>-0.06</td>\n",
       "      <td>-1.54</td>\n",
       "      <td>-0.33</td>\n",
       "      <td>-0.33</td>\n",
       "      <td>0.00</td>\n",
       "      <td>0.08</td>\n",
       "    </tr>\n",
       "    <tr>\n",
       "      <td>3935</td>\n",
       "      <td>0</td>\n",
       "      <td>-0.03</td>\n",
       "      <td>-30.0</td>\n",
       "      <td>-0.05</td>\n",
       "      <td>40.68</td>\n",
       "      <td>1.22</td>\n",
       "      <td>0.35</td>\n",
       "      <td>-0.04</td>\n",
       "      <td>1.44</td>\n",
       "      <td>-0.06</td>\n",
       "      <td>-3.61</td>\n",
       "      <td>-0.11</td>\n",
       "      <td>-0.09</td>\n",
       "      <td>-3.14</td>\n",
       "      <td>0.21</td>\n",
       "    </tr>\n",
       "  </tbody>\n",
       "</table>\n",
       "<p>3936 rows × 15 columns</p>\n",
       "</div>"
      ],
      "text/plain": [
       "      fx_win  height_diff  weight_diff  reach_diff  fight_time_diff  age_diff  \\\n",
       "0          0        -0.03          0.0        0.00            12.22     -2.58   \n",
       "1          0         0.03          0.0       -0.03             5.28     -4.59   \n",
       "2          1         0.03          0.0        0.00           -39.80     -3.88   \n",
       "3          1        -0.02          0.0       -0.03            35.00      3.97   \n",
       "4          1         0.00          0.0        0.02            36.76      2.70   \n",
       "...      ...          ...          ...         ...              ...       ...   \n",
       "3931       0         0.15          0.0        0.15           -10.04     -4.75   \n",
       "3932       1         0.05         15.0        0.03            -8.22     -1.67   \n",
       "3933       0        -0.10          0.0        0.00            30.00     -4.20   \n",
       "3934       0         0.10          0.0        0.02           -18.24     -5.13   \n",
       "3935       0        -0.03        -30.0       -0.05            40.68      1.22   \n",
       "\n",
       "      str_landed_per_min_diff  str_acc_diff  str_absorb_per_min_diff  \\\n",
       "0                        4.75          0.54                    -3.38   \n",
       "1                        3.94          0.07                    -2.84   \n",
       "2                       -0.30          0.04                     0.05   \n",
       "3                        0.06          0.10                    -0.89   \n",
       "4                        6.29          0.29                     1.93   \n",
       "...                       ...           ...                      ...   \n",
       "3931                    -2.44         -0.02                    -2.24   \n",
       "3932                    -2.18          0.21                    -2.18   \n",
       "3933                    -2.36         -0.02                    -2.36   \n",
       "3934                     4.26         -0.06                     4.26   \n",
       "3935                     0.35         -0.04                     1.44   \n",
       "\n",
       "      str_def_diff  td_avg_diff  td_acc_diff  td_def_diff  sub_avg_diff  \\\n",
       "0             0.15         0.00         0.00        -0.38          1.00   \n",
       "1            -0.13        -1.54        -0.50        -0.25         -3.63   \n",
       "2            -0.02         0.50        -0.21         0.25          0.75   \n",
       "3             0.03         1.26         0.38         0.58          0.42   \n",
       "4            -0.08         1.11         0.38        -0.89          0.00   \n",
       "...            ...          ...          ...          ...           ...   \n",
       "3931          0.00        -1.97        -0.01        -0.11          0.93   \n",
       "3932          0.21        -2.69        -0.80        -0.80          0.89   \n",
       "3933         -0.02         0.33         1.00         1.00          0.33   \n",
       "3934         -0.06        -1.54        -0.33        -0.33          0.00   \n",
       "3935         -0.06        -3.61        -0.11        -0.09         -3.14   \n",
       "\n",
       "      win_percentage_diff  \n",
       "0                    0.09  \n",
       "1                   -0.13  \n",
       "2                    0.06  \n",
       "3                   -0.09  \n",
       "4                   -0.02  \n",
       "...                   ...  \n",
       "3931                 0.09  \n",
       "3932                -0.35  \n",
       "3933                -0.03  \n",
       "3934                 0.08  \n",
       "3935                 0.21  \n",
       "\n",
       "[3936 rows x 15 columns]"
      ]
     },
     "execution_count": 13,
     "metadata": {},
     "output_type": "execute_result"
    }
   ],
   "source": [
    "df"
   ]
  },
  {
   "cell_type": "code",
   "execution_count": 14,
   "metadata": {},
   "outputs": [],
   "source": [
    "y = df[['fx_win']]"
   ]
  },
  {
   "cell_type": "code",
   "execution_count": 15,
   "metadata": {},
   "outputs": [],
   "source": [
    "X = df.drop(columns=['fx_win'])"
   ]
  },
  {
   "cell_type": "code",
   "execution_count": 16,
   "metadata": {},
   "outputs": [],
   "source": [
    "X_train, X_test, y_train, y_test = train_test_split(X, y, test_size=300, random_state=50)\n",
    "X_train, X_val, y_train, y_val = train_test_split(X_train, y_train, test_size=0.1, random_state=50)"
   ]
  },
  {
   "cell_type": "code",
   "execution_count": 17,
   "metadata": {},
   "outputs": [],
   "source": [
    "col_tran = ColumnTransformer(\n",
    "            [(\"standard\", StandardScaler(), X.columns)],\n",
    "                remainder='passthrough')"
   ]
  },
  {
   "cell_type": "code",
   "execution_count": 18,
   "metadata": {},
   "outputs": [],
   "source": [
    "X_train_s = col_tran.fit_transform(X_train)\n",
    "X_val_s = col_tran.transform(X_val)\n",
    "X_test_s = col_tran.transform(X_test)"
   ]
  },
  {
   "cell_type": "code",
   "execution_count": 19,
   "metadata": {},
   "outputs": [],
   "source": [
    "y_train = y_train.values\n",
    "y_val = y_val.values\n",
    "y_test = y_test.values"
   ]
  },
  {
   "cell_type": "code",
   "execution_count": 20,
   "metadata": {},
   "outputs": [
    {
     "data": {
      "text/plain": [
       "LogisticRegression(C=1.0, class_weight=None, dual=False, fit_intercept=True,\n",
       "                   intercept_scaling=1, l1_ratio=None, max_iter=100,\n",
       "                   multi_class='auto', n_jobs=None, penalty='l2',\n",
       "                   random_state=None, solver='lbfgs', tol=0.0001, verbose=0,\n",
       "                   warm_start=False)"
      ]
     },
     "execution_count": 20,
     "metadata": {},
     "output_type": "execute_result"
    }
   ],
   "source": [
    "log_reg = LogisticRegression()\n",
    "log_reg.fit(X_train_s, y_train)"
   ]
  },
  {
   "cell_type": "code",
   "execution_count": 21,
   "metadata": {},
   "outputs": [
    {
     "data": {
      "text/plain": [
       "0.6280562347188264"
      ]
     },
     "execution_count": 21,
     "metadata": {},
     "output_type": "execute_result"
    }
   ],
   "source": [
    "score = log_reg.score(X_train_s, y_train)\n",
    "score"
   ]
  },
  {
   "cell_type": "code",
   "execution_count": 22,
   "metadata": {},
   "outputs": [
    {
     "data": {
      "text/plain": [
       "SVC(C=1.0, break_ties=False, cache_size=200, class_weight=None, coef0=0.0,\n",
       "    decision_function_shape='ovr', degree=3, gamma='scale', kernel='rbf',\n",
       "    max_iter=-1, probability=True, random_state=None, shrinking=True, tol=0.001,\n",
       "    verbose=False)"
      ]
     },
     "execution_count": 22,
     "metadata": {},
     "output_type": "execute_result"
    }
   ],
   "source": [
    "svm = SVC(probability=True)\n",
    "svm.fit(X_train_s, y_train)"
   ]
  },
  {
   "cell_type": "code",
   "execution_count": 23,
   "metadata": {},
   "outputs": [
    {
     "data": {
      "text/plain": [
       "0.7215770171149144"
      ]
     },
     "execution_count": 23,
     "metadata": {},
     "output_type": "execute_result"
    }
   ],
   "source": [
    "score = svm.score(X_train_s, y_train)\n",
    "score"
   ]
  },
  {
   "cell_type": "code",
   "execution_count": 24,
   "metadata": {},
   "outputs": [
    {
     "data": {
      "text/plain": [
       "RandomForestClassifier(bootstrap=True, ccp_alpha=0.0, class_weight=None,\n",
       "                       criterion='gini', max_depth=10, max_features='auto',\n",
       "                       max_leaf_nodes=None, max_samples=None,\n",
       "                       min_impurity_decrease=0.0, min_impurity_split=None,\n",
       "                       min_samples_leaf=1, min_samples_split=2,\n",
       "                       min_weight_fraction_leaf=0.0, n_estimators=5000,\n",
       "                       n_jobs=None, oob_score=False, random_state=None,\n",
       "                       verbose=0, warm_start=False)"
      ]
     },
     "execution_count": 24,
     "metadata": {},
     "output_type": "execute_result"
    }
   ],
   "source": [
    "rand_for = RandomForestClassifier(n_estimators = 5000, min_samples_leaf=1, max_depth=10)\n",
    "rand_for.fit(X_train_s, y_train)"
   ]
  },
  {
   "cell_type": "code",
   "execution_count": 25,
   "metadata": {},
   "outputs": [
    {
     "data": {
      "text/plain": [
       "0.9358190709046454"
      ]
     },
     "execution_count": 25,
     "metadata": {},
     "output_type": "execute_result"
    }
   ],
   "source": [
    "score = rand_for.score(X_train_s, y_train)\n",
    "score"
   ]
  },
  {
   "cell_type": "code",
   "execution_count": 26,
   "metadata": {},
   "outputs": [],
   "source": [
    "voting_class = VotingClassifier(estimators=[('log_reg', log_reg),('rf', rand_for),('svm', svm)], voting='soft')"
   ]
  },
  {
   "cell_type": "code",
   "execution_count": 27,
   "metadata": {},
   "outputs": [
    {
     "data": {
      "text/plain": [
       "VotingClassifier(estimators=[('log_reg',\n",
       "                              LogisticRegression(C=1.0, class_weight=None,\n",
       "                                                 dual=False, fit_intercept=True,\n",
       "                                                 intercept_scaling=1,\n",
       "                                                 l1_ratio=None, max_iter=100,\n",
       "                                                 multi_class='auto',\n",
       "                                                 n_jobs=None, penalty='l2',\n",
       "                                                 random_state=None,\n",
       "                                                 solver='lbfgs', tol=0.0001,\n",
       "                                                 verbose=0, warm_start=False)),\n",
       "                             ('rf',\n",
       "                              RandomForestClassifier(bootstrap=True,\n",
       "                                                     ccp_alpha=0.0,\n",
       "                                                     class_weight=No...\n",
       "                                                     oob_score=False,\n",
       "                                                     random_state=None,\n",
       "                                                     verbose=0,\n",
       "                                                     warm_start=False)),\n",
       "                             ('svm',\n",
       "                              SVC(C=1.0, break_ties=False, cache_size=200,\n",
       "                                  class_weight=None, coef0=0.0,\n",
       "                                  decision_function_shape='ovr', degree=3,\n",
       "                                  gamma='scale', kernel='rbf', max_iter=-1,\n",
       "                                  probability=True, random_state=None,\n",
       "                                  shrinking=True, tol=0.001, verbose=False))],\n",
       "                 flatten_transform=True, n_jobs=None, voting='soft',\n",
       "                 weights=None)"
      ]
     },
     "execution_count": 27,
     "metadata": {},
     "output_type": "execute_result"
    }
   ],
   "source": [
    "voting_class.fit(X_train_s, y_train)"
   ]
  },
  {
   "cell_type": "code",
   "execution_count": 28,
   "metadata": {},
   "outputs": [
    {
     "data": {
      "text/plain": [
       "0.6366666666666667"
      ]
     },
     "execution_count": 28,
     "metadata": {},
     "output_type": "execute_result"
    }
   ],
   "source": [
    "voting_class.score(X_test_s, y_test)"
   ]
  },
  {
   "cell_type": "code",
   "execution_count": 29,
   "metadata": {},
   "outputs": [],
   "source": [
    "stacking = StackedClassifier(pool_classifiers=[log_reg, svm, rand_for], random_state=50)"
   ]
  },
  {
   "cell_type": "code",
   "execution_count": 30,
   "metadata": {},
   "outputs": [
    {
     "data": {
      "text/plain": [
       "StackedClassifier(meta_classifier=None,\n",
       "                  pool_classifiers=[LogisticRegression(C=1.0, class_weight=None,\n",
       "                                                       dual=False,\n",
       "                                                       fit_intercept=True,\n",
       "                                                       intercept_scaling=1,\n",
       "                                                       l1_ratio=None,\n",
       "                                                       max_iter=100,\n",
       "                                                       multi_class='auto',\n",
       "                                                       n_jobs=None,\n",
       "                                                       penalty='l2',\n",
       "                                                       random_state=None,\n",
       "                                                       solver='lbfgs',\n",
       "                                                       tol=0.0001, verbose=0,\n",
       "                                                       warm_start=False),\n",
       "                                    SVC(C=1.0, break_ties=False, cache_size=200,\n",
       "                                        class_weight=No...\n",
       "                                    RandomForestClassifier(bootstrap=True,\n",
       "                                                           ccp_alpha=0.0,\n",
       "                                                           class_weight=None,\n",
       "                                                           criterion='gini',\n",
       "                                                           max_depth=10,\n",
       "                                                           max_features='auto',\n",
       "                                                           max_leaf_nodes=None,\n",
       "                                                           max_samples=None,\n",
       "                                                           min_impurity_decrease=0.0,\n",
       "                                                           min_impurity_split=None,\n",
       "                                                           min_samples_leaf=1,\n",
       "                                                           min_samples_split=2,\n",
       "                                                           min_weight_fraction_leaf=0.0,\n",
       "                                                           n_estimators=5000,\n",
       "                                                           n_jobs=None,\n",
       "                                                           oob_score=False,\n",
       "                                                           random_state=None,\n",
       "                                                           verbose=0,\n",
       "                                                           warm_start=False)],\n",
       "                  random_state=50)"
      ]
     },
     "execution_count": 30,
     "metadata": {},
     "output_type": "execute_result"
    }
   ],
   "source": [
    "stacking.fit(X_train_s, y_train)"
   ]
  },
  {
   "cell_type": "code",
   "execution_count": 31,
   "metadata": {},
   "outputs": [
    {
     "data": {
      "text/plain": [
       "0.5686813186813187"
      ]
     },
     "execution_count": 31,
     "metadata": {},
     "output_type": "execute_result"
    }
   ],
   "source": [
    "stacking.score(X_val_s, y_val)"
   ]
  },
  {
   "cell_type": "code",
   "execution_count": 32,
   "metadata": {},
   "outputs": [
    {
     "data": {
      "text/plain": [
       "KNeighborsClassifier(algorithm='auto', leaf_size=30, metric='minkowski',\n",
       "                     metric_params=None, n_jobs=None, n_neighbors=2, p=2,\n",
       "                     weights='uniform')"
      ]
     },
     "execution_count": 32,
     "metadata": {},
     "output_type": "execute_result"
    }
   ],
   "source": [
    "neighbors = KNeighborsClassifier(n_neighbors=2)\n",
    "neighbors.fit(X_train_s, y_train)"
   ]
  },
  {
   "cell_type": "code",
   "execution_count": 33,
   "metadata": {},
   "outputs": [
    {
     "data": {
      "text/plain": [
       "0.5533333333333333"
      ]
     },
     "execution_count": 33,
     "metadata": {},
     "output_type": "execute_result"
    }
   ],
   "source": [
    "neighbors.score(X_test_s, y_test)"
   ]
  },
  {
   "cell_type": "code",
   "execution_count": 34,
   "metadata": {},
   "outputs": [
    {
     "data": {
      "text/plain": [
       "GaussianNB(priors=None, var_smoothing=1e-09)"
      ]
     },
     "execution_count": 34,
     "metadata": {},
     "output_type": "execute_result"
    }
   ],
   "source": [
    "bayes = GaussianNB()\n",
    "bayes.fit(X_train_s, y_train)"
   ]
  },
  {
   "cell_type": "code",
   "execution_count": 37,
   "metadata": {},
   "outputs": [
    {
     "data": {
      "text/plain": [
       "0.60880195599022"
      ]
     },
     "execution_count": 37,
     "metadata": {},
     "output_type": "execute_result"
    }
   ],
   "source": [
    "bayes.score(X_train_s, y_train)"
   ]
  },
  {
   "cell_type": "code",
   "execution_count": 42,
   "metadata": {},
   "outputs": [
    {
     "ename": "ImportError",
     "evalue": "cannot import name 'Classification'",
     "output_type": "error",
     "traceback": [
      "\u001b[0;31m---------------------------------------------------------------------------\u001b[0m",
      "\u001b[0;31mImportError\u001b[0m                               Traceback (most recent call last)",
      "\u001b[0;32m<ipython-input-42-92acb10b3128>\u001b[0m in \u001b[0;36m<module>\u001b[0;34m\u001b[0m\n\u001b[0;32m----> 1\u001b[0;31m \u001b[0;32mfrom\u001b[0m \u001b[0mclasses\u001b[0m \u001b[0;32mimport\u001b[0m \u001b[0mClassification\u001b[0m\u001b[0;34m\u001b[0m\u001b[0;34m\u001b[0m\u001b[0m\n\u001b[0m",
      "\u001b[0;31mImportError\u001b[0m: cannot import name 'Classification'"
     ]
    }
   ],
   "source": [
    "from classes import Classification"
   ]
  },
  {
   "cell_type": "code",
   "execution_count": null,
   "metadata": {},
   "outputs": [],
   "source": []
  },
  {
   "cell_type": "code",
   "execution_count": null,
   "metadata": {},
   "outputs": [],
   "source": []
  },
  {
   "cell_type": "code",
   "execution_count": 240,
   "metadata": {},
   "outputs": [],
   "source": [
    "l2_reg = keras.regularizers.l2(0.0001)"
   ]
  },
  {
   "cell_type": "code",
   "execution_count": 241,
   "metadata": {},
   "outputs": [],
   "source": [
    "model2 = Sequential()\n",
    "model2.add(Dense(32, activation='relu', input_dim=X_train_s.shape[1], kernel_initializer='normal', \n",
    "                 kernel_regularizer=l2_reg))\n",
    "model2.add(Dropout(rate=0.1))\n",
    "model2.add(Dense(32, activation='relu', kernel_initializer='normal', kernel_regularizer=l2_reg))\n",
    "model2.add(Dropout(rate=0.1))\n",
    "model2.add(Dense(1, activation='sigmoid'))"
   ]
  },
  {
   "cell_type": "code",
   "execution_count": 242,
   "metadata": {},
   "outputs": [
    {
     "name": "stdout",
     "output_type": "stream",
     "text": [
      "Model: \"sequential_37\"\n",
      "_________________________________________________________________\n",
      "Layer (type)                 Output Shape              Param #   \n",
      "=================================================================\n",
      "dense_130 (Dense)            (None, 32)                480       \n",
      "_________________________________________________________________\n",
      "dropout_58 (Dropout)         (None, 32)                0         \n",
      "_________________________________________________________________\n",
      "dense_131 (Dense)            (None, 32)                1056      \n",
      "_________________________________________________________________\n",
      "dropout_59 (Dropout)         (None, 32)                0         \n",
      "_________________________________________________________________\n",
      "dense_132 (Dense)            (None, 1)                 33        \n",
      "=================================================================\n",
      "Total params: 1,569\n",
      "Trainable params: 1,569\n",
      "Non-trainable params: 0\n",
      "_________________________________________________________________\n"
     ]
    }
   ],
   "source": [
    "model2.summary()"
   ]
  },
  {
   "cell_type": "code",
   "execution_count": 243,
   "metadata": {},
   "outputs": [],
   "source": [
    "model2.compile(loss='binary_crossentropy', optimizer='rmsprop', metrics=['accuracy'])"
   ]
  },
  {
   "cell_type": "code",
   "execution_count": 244,
   "metadata": {},
   "outputs": [
    {
     "name": "stdout",
     "output_type": "stream",
     "text": [
      "Train on 3272 samples, validate on 364 samples\n",
      "Epoch 1/50\n",
      "3272/3272 [==============================] - 1s 377us/step - loss: 0.6777 - accuracy: 0.5987 - val_loss: 0.6791 - val_accuracy: 0.5769\n",
      "Epoch 2/50\n",
      "3272/3272 [==============================] - 0s 130us/step - loss: 0.6579 - accuracy: 0.6167 - val_loss: 0.6840 - val_accuracy: 0.5989\n",
      "Epoch 3/50\n",
      "3272/3272 [==============================] - 0s 133us/step - loss: 0.6534 - accuracy: 0.6256 - val_loss: 0.6765 - val_accuracy: 0.5907\n",
      "Epoch 4/50\n",
      "3272/3272 [==============================] - 0s 131us/step - loss: 0.6508 - accuracy: 0.6320 - val_loss: 0.6779 - val_accuracy: 0.5742\n",
      "Epoch 5/50\n",
      "3272/3272 [==============================] - 0s 130us/step - loss: 0.6490 - accuracy: 0.6296 - val_loss: 0.6797 - val_accuracy: 0.5714\n",
      "Epoch 6/50\n",
      "3272/3272 [==============================] - 0s 130us/step - loss: 0.6447 - accuracy: 0.6345 - val_loss: 0.6821 - val_accuracy: 0.5797\n",
      "Epoch 7/50\n",
      "3272/3272 [==============================] - 0s 130us/step - loss: 0.6449 - accuracy: 0.6339 - val_loss: 0.6870 - val_accuracy: 0.5714\n",
      "Epoch 8/50\n",
      "3272/3272 [==============================] - 0s 131us/step - loss: 0.6438 - accuracy: 0.6302 - val_loss: 0.6787 - val_accuracy: 0.5769\n",
      "Epoch 9/50\n",
      "3272/3272 [==============================] - 0s 130us/step - loss: 0.6419 - accuracy: 0.6391 - val_loss: 0.6875 - val_accuracy: 0.5604\n",
      "Epoch 10/50\n",
      "3272/3272 [==============================] - 0s 129us/step - loss: 0.6415 - accuracy: 0.6394 - val_loss: 0.6801 - val_accuracy: 0.5577\n",
      "Epoch 11/50\n",
      "3272/3272 [==============================] - 0s 131us/step - loss: 0.6392 - accuracy: 0.6354 - val_loss: 0.6976 - val_accuracy: 0.5714\n",
      "Epoch 12/50\n",
      "3272/3272 [==============================] - 0s 129us/step - loss: 0.6372 - accuracy: 0.6412 - val_loss: 0.6955 - val_accuracy: 0.5549\n",
      "Epoch 13/50\n",
      "3272/3272 [==============================] - 0s 129us/step - loss: 0.6384 - accuracy: 0.6394 - val_loss: 0.6826 - val_accuracy: 0.5687\n",
      "Epoch 14/50\n",
      "3272/3272 [==============================] - 0s 132us/step - loss: 0.6346 - accuracy: 0.6403 - val_loss: 0.6990 - val_accuracy: 0.5577\n",
      "Epoch 15/50\n",
      "3272/3272 [==============================] - 0s 132us/step - loss: 0.6361 - accuracy: 0.6409 - val_loss: 0.6892 - val_accuracy: 0.5852\n",
      "Epoch 16/50\n",
      "3272/3272 [==============================] - 0s 131us/step - loss: 0.6348 - accuracy: 0.6439 - val_loss: 0.6910 - val_accuracy: 0.5577\n",
      "Epoch 17/50\n",
      "3272/3272 [==============================] - 0s 130us/step - loss: 0.6294 - accuracy: 0.6476 - val_loss: 0.6984 - val_accuracy: 0.5577\n",
      "Epoch 18/50\n",
      "3272/3272 [==============================] - 0s 132us/step - loss: 0.6297 - accuracy: 0.6439 - val_loss: 0.6907 - val_accuracy: 0.5659\n",
      "Epoch 19/50\n",
      "3272/3272 [==============================] - 0s 136us/step - loss: 0.6292 - accuracy: 0.6409 - val_loss: 0.6913 - val_accuracy: 0.5577\n",
      "Epoch 20/50\n",
      "3272/3272 [==============================] - 0s 132us/step - loss: 0.6291 - accuracy: 0.6458 - val_loss: 0.6900 - val_accuracy: 0.5604\n",
      "Epoch 21/50\n",
      "3272/3272 [==============================] - 0s 133us/step - loss: 0.6254 - accuracy: 0.6510 - val_loss: 0.6896 - val_accuracy: 0.5549\n",
      "Epoch 22/50\n",
      "3272/3272 [==============================] - 0s 134us/step - loss: 0.6229 - accuracy: 0.6571 - val_loss: 0.7113 - val_accuracy: 0.5714\n",
      "Epoch 23/50\n",
      "3272/3272 [==============================] - 0s 130us/step - loss: 0.6210 - accuracy: 0.6550 - val_loss: 0.6928 - val_accuracy: 0.5714\n",
      "Epoch 24/50\n",
      "3272/3272 [==============================] - 0s 134us/step - loss: 0.6246 - accuracy: 0.6488 - val_loss: 0.6932 - val_accuracy: 0.5714\n",
      "Epoch 25/50\n",
      "3272/3272 [==============================] - 0s 134us/step - loss: 0.6210 - accuracy: 0.6540 - val_loss: 0.6933 - val_accuracy: 0.5742\n",
      "Epoch 26/50\n",
      "3272/3272 [==============================] - 0s 138us/step - loss: 0.6187 - accuracy: 0.6586 - val_loss: 0.6946 - val_accuracy: 0.5577\n",
      "Epoch 27/50\n",
      "3272/3272 [==============================] - 0s 130us/step - loss: 0.6203 - accuracy: 0.6571 - val_loss: 0.6957 - val_accuracy: 0.5659\n",
      "Epoch 28/50\n",
      "3272/3272 [==============================] - 0s 131us/step - loss: 0.6185 - accuracy: 0.6504 - val_loss: 0.6968 - val_accuracy: 0.5577\n",
      "Epoch 29/50\n",
      "3272/3272 [==============================] - 0s 128us/step - loss: 0.6209 - accuracy: 0.6553 - val_loss: 0.6904 - val_accuracy: 0.5577\n",
      "Epoch 30/50\n",
      "3272/3272 [==============================] - 0s 131us/step - loss: 0.6156 - accuracy: 0.6583 - val_loss: 0.7000 - val_accuracy: 0.5632\n",
      "Epoch 31/50\n",
      "3272/3272 [==============================] - 0s 130us/step - loss: 0.6192 - accuracy: 0.6589 - val_loss: 0.7041 - val_accuracy: 0.5742\n",
      "Epoch 32/50\n",
      "3272/3272 [==============================] - 0s 132us/step - loss: 0.6145 - accuracy: 0.6632 - val_loss: 0.7068 - val_accuracy: 0.5797\n",
      "Epoch 33/50\n",
      "3272/3272 [==============================] - 0s 128us/step - loss: 0.6128 - accuracy: 0.6635 - val_loss: 0.6938 - val_accuracy: 0.5714\n",
      "Epoch 34/50\n",
      "3272/3272 [==============================] - 0s 129us/step - loss: 0.6110 - accuracy: 0.6681 - val_loss: 0.7180 - val_accuracy: 0.5687\n",
      "Epoch 35/50\n",
      "3272/3272 [==============================] - 0s 130us/step - loss: 0.6133 - accuracy: 0.6675 - val_loss: 0.7164 - val_accuracy: 0.5659\n",
      "Epoch 36/50\n",
      "3272/3272 [==============================] - 0s 128us/step - loss: 0.6133 - accuracy: 0.6605 - val_loss: 0.7043 - val_accuracy: 0.5687\n",
      "Epoch 37/50\n",
      "3272/3272 [==============================] - 0s 129us/step - loss: 0.6080 - accuracy: 0.6724 - val_loss: 0.6954 - val_accuracy: 0.5632\n",
      "Epoch 38/50\n",
      "3272/3272 [==============================] - 0s 129us/step - loss: 0.6121 - accuracy: 0.6672 - val_loss: 0.6960 - val_accuracy: 0.5659\n",
      "Epoch 39/50\n",
      "3272/3272 [==============================] - 0s 130us/step - loss: 0.6130 - accuracy: 0.6733 - val_loss: 0.7038 - val_accuracy: 0.5604\n",
      "Epoch 40/50\n",
      "3272/3272 [==============================] - 0s 135us/step - loss: 0.6089 - accuracy: 0.6672 - val_loss: 0.7010 - val_accuracy: 0.5769\n",
      "Epoch 41/50\n",
      "3272/3272 [==============================] - 0s 134us/step - loss: 0.6050 - accuracy: 0.6672 - val_loss: 0.7085 - val_accuracy: 0.5577\n",
      "Epoch 42/50\n",
      "3272/3272 [==============================] - 0s 133us/step - loss: 0.6033 - accuracy: 0.6699 - val_loss: 0.7156 - val_accuracy: 0.5769\n",
      "Epoch 43/50\n",
      "3272/3272 [==============================] - 0s 131us/step - loss: 0.6115 - accuracy: 0.6690 - val_loss: 0.6963 - val_accuracy: 0.5659\n",
      "Epoch 44/50\n",
      "3272/3272 [==============================] - 0s 131us/step - loss: 0.6092 - accuracy: 0.6672 - val_loss: 0.6981 - val_accuracy: 0.5632\n",
      "Epoch 45/50\n",
      "3272/3272 [==============================] - 0s 129us/step - loss: 0.6068 - accuracy: 0.6687 - val_loss: 0.7039 - val_accuracy: 0.5632\n",
      "Epoch 46/50\n",
      "3272/3272 [==============================] - 0s 131us/step - loss: 0.6053 - accuracy: 0.6690 - val_loss: 0.7106 - val_accuracy: 0.5604\n",
      "Epoch 47/50\n",
      "3272/3272 [==============================] - 0s 135us/step - loss: 0.6037 - accuracy: 0.6736 - val_loss: 0.7189 - val_accuracy: 0.5769\n",
      "Epoch 48/50\n",
      "3272/3272 [==============================] - 0s 130us/step - loss: 0.5968 - accuracy: 0.6916 - val_loss: 0.7061 - val_accuracy: 0.5659\n",
      "Epoch 49/50\n",
      "3272/3272 [==============================] - 0s 132us/step - loss: 0.6011 - accuracy: 0.6742 - val_loss: 0.7246 - val_accuracy: 0.5659\n",
      "Epoch 50/50\n",
      "3272/3272 [==============================] - 0s 134us/step - loss: 0.5962 - accuracy: 0.6831 - val_loss: 0.7038 - val_accuracy: 0.5687\n"
     ]
    }
   ],
   "source": [
    "history2 = model2.fit(X_train_s, y_train, epochs=50, batch_size=16, validation_data=(X_val_s, y_val))"
   ]
  },
  {
   "cell_type": "code",
   "execution_count": 245,
   "metadata": {},
   "outputs": [
    {
     "data": {
      "image/png": "[encoded data removed]",
      "text/plain": [
       "<Figure size 1080x720 with 1 Axes>"
      ]
     },
     "metadata": {
      "needs_background": "light"
     },
     "output_type": "display_data"
    }
   ],
   "source": [
    "pd.DataFrame(history2.history).plot(figsize=(15,10))\n",
    "plt.grid(True)\n",
    "plt.gca().set_ylim(0,1)\n",
    "plt.show()"
   ]
  },
  {
   "cell_type": "code",
   "execution_count": 226,
   "metadata": {},
   "outputs": [],
   "source": [
    "y_pred = model2.predict(X_test_s)"
   ]
  },
  {
   "cell_type": "code",
   "execution_count": 227,
   "metadata": {},
   "outputs": [
    {
     "name": "stdout",
     "output_type": "stream",
     "text": [
      "300/300 [==============================] - 0s 53us/step\n"
     ]
    },
    {
     "data": {
      "text/plain": [
       "[0.7100793655713399, 0.596666693687439]"
      ]
     },
     "execution_count": 227,
     "metadata": {},
     "output_type": "execute_result"
    }
   ],
   "source": [
    "model2.evaluate(X_test_s, y_test)"
   ]
  },
  {
   "cell_type": "code",
   "execution_count": 88,
   "metadata": {},
   "outputs": [],
   "source": [
    "from IPython.display import SVG\n",
    "from keras.utils.vis_utils import model_to_dot\n",
    "import pydot"
   ]
  },
  {
   "cell_type": "code",
   "execution_count": 76,
   "metadata": {},
   "outputs": [],
   "source": [
    "pickle.dump(model2, open('nn_first_iteration.pickle', 'wb'))"
   ]
  },
  {
   "cell_type": "code",
   "execution_count": null,
   "metadata": {},
   "outputs": [],
   "source": []
  }
 ],
 "metadata": {
  "kernelspec": {
   "display_name": "Python 3",
   "language": "python",
   "name": "python3"
  },
  "language_info": {
   "codemirror_mode": {
    "name": "ipython",
    "version": 3
   },
   "file_extension": ".py",
   "mimetype": "text/x-python",
   "name": "python",
   "nbconvert_exporter": "python",
   "pygments_lexer": "ipython3",
   "version": "3.6.9"
  }
 },
 "nbformat": 4,
 "nbformat_minor": 4
}
