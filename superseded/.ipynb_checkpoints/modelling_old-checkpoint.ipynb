{
 "cells": [
  {
   "cell_type": "markdown",
   "metadata": {},
   "source": [
    "# 1. Importing Libraries and Data"
   ]
  },
  {
   "cell_type": "code",
   "execution_count": 185,
   "metadata": {},
   "outputs": [],
   "source": [
    "import pandas as pd\n",
    "from datetime import date, timedelta\n",
    "import numpy as np\n",
    "import matplotlib.pyplot as plt\n",
    "import seaborn as sns\n",
    "import itertools\n",
    "\n",
    "from IPython.display import display\n",
    "from IPython.display import Image\n",
    "import pydotplus\n",
    "from sklearn.externals.six import StringIO \n",
    "from subprocess import call\n",
    "\n",
    "import warnings\n",
    "import tensorflow as tf\n",
    "from tensorflow import keras\n",
    "from sklearn.model_selection import train_test_split, GridSearchCV, StratifiedKFold\n",
    "from sklearn.preprocessing import StandardScaler, RobustScaler\n",
    "from keras.models import Sequential\n",
    "from keras.layers import Dense, Dropout, Activation, Flatten\n",
    "from keras.layers import Convolution2D, MaxPooling2D\n",
    "from keras.optimizers import Adam\n",
    "from keras.regularizers import l2\n",
    "\n",
    "from sklearn.linear_model import LogisticRegression, LinearRegression, SGDClassifier\n",
    "from sklearn.ensemble import VotingClassifier, BaggingClassifier, AdaBoostClassifier, RandomForestClassifier\n",
    "from sklearn.compose import ColumnTransformer\n",
    "from sklearn.svm import SVC\n",
    "from sklearn.tree import DecisionTreeClassifier\n",
    "from sklearn.neighbors import KNeighborsClassifier\n",
    "from sklearn.naive_bayes import GaussianNB\n",
    "# from deslib.static.stacked import StackedClassifier\n",
    "from sklearn.metrics import confusion_matrix, roc_curve, roc_auc_score, classification_report\n",
    "from sklearn.ensemble import StackingClassifier\n",
    "from xgboost.sklearn import XGBClassifier\n",
    "from sklearn import tree\n",
    "from sklearn.tree import export_graphviz\n",
    "from pickle import dump\n",
    "\n",
    "from Classes import Classification\n",
    "from Classes import Ensemble\n",
    "import math\n",
    "\n",
    "pd.set_option('display.max_columns', 500)\n",
    "warnings.filterwarnings(\"ignore\")"
   ]
  },
  {
   "cell_type": "code",
   "execution_count": 186,
   "metadata": {},
   "outputs": [],
   "source": [
    "df = pd.read_csv('data_cleaned6.csv')"
   ]
  },
  {
   "cell_type": "code",
   "execution_count": 187,
   "metadata": {},
   "outputs": [],
   "source": [
    "df.drop(columns=['fight_time_x','fight_time_y'], inplace=True)"
   ]
  },
  {
   "cell_type": "code",
   "execution_count": 188,
   "metadata": {},
   "outputs": [
    {
     "data": {
      "text/plain": [
       "1    0.500762\n",
       "0    0.499238\n",
       "Name: fx_win, dtype: float64"
      ]
     },
     "execution_count": 188,
     "metadata": {},
     "output_type": "execute_result"
    }
   ],
   "source": [
    "df.fx_win.value_counts(normalize=True)"
   ]
  },
  {
   "cell_type": "code",
   "execution_count": 189,
   "metadata": {},
   "outputs": [],
   "source": [
    "df.rename(columns={'fx_win':'win_x'}, inplace=True)"
   ]
  },
  {
   "cell_type": "code",
   "execution_count": 190,
   "metadata": {},
   "outputs": [],
   "source": [
    "df['win_y'] = df['win_x'].apply(lambda x: 1 if (x == 0) else 0)"
   ]
  },
  {
   "cell_type": "code",
   "execution_count": 191,
   "metadata": {},
   "outputs": [
    {
     "data": {
      "text/html": [
       "<div>\n",
       "<style scoped>\n",
       "    .dataframe tbody tr th:only-of-type {\n",
       "        vertical-align: middle;\n",
       "    }\n",
       "\n",
       "    .dataframe tbody tr th {\n",
       "        vertical-align: top;\n",
       "    }\n",
       "\n",
       "    .dataframe thead th {\n",
       "        text-align: right;\n",
       "    }\n",
       "</style>\n",
       "<table border=\"1\" class=\"dataframe\">\n",
       "  <thead>\n",
       "    <tr style=\"text-align: right;\">\n",
       "      <th></th>\n",
       "      <th>name_x</th>\n",
       "      <th>height_x</th>\n",
       "      <th>weight_x</th>\n",
       "      <th>reach_x</th>\n",
       "      <th>win_x</th>\n",
       "      <th>age_x</th>\n",
       "      <th>str_landed_per_min_x</th>\n",
       "      <th>str_acc_x</th>\n",
       "      <th>str_absorb_per_min_x</th>\n",
       "      <th>str_def_x</th>\n",
       "      <th>td_avg_x</th>\n",
       "      <th>td_acc_x</th>\n",
       "      <th>td_def_x</th>\n",
       "      <th>sub_avg_x</th>\n",
       "      <th>win_percentage_x</th>\n",
       "      <th>name_y</th>\n",
       "      <th>height_y</th>\n",
       "      <th>weight_y</th>\n",
       "      <th>reach_y</th>\n",
       "      <th>age_y</th>\n",
       "      <th>str_landed_per_min_y</th>\n",
       "      <th>str_acc_y</th>\n",
       "      <th>str_absorb_per_min_y</th>\n",
       "      <th>str_def_y</th>\n",
       "      <th>td_avg_y</th>\n",
       "      <th>td_acc_y</th>\n",
       "      <th>td_def_y</th>\n",
       "      <th>sub_avg_y</th>\n",
       "      <th>win_percentage_y</th>\n",
       "      <th>win_y</th>\n",
       "    </tr>\n",
       "  </thead>\n",
       "  <tbody>\n",
       "    <tr>\n",
       "      <td>0</td>\n",
       "      <td>Aaron Phillips</td>\n",
       "      <td>1.75</td>\n",
       "      <td>135.0</td>\n",
       "      <td>1.78</td>\n",
       "      <td>0</td>\n",
       "      <td>25.05</td>\n",
       "      <td>7.27</td>\n",
       "      <td>0.80</td>\n",
       "      <td>6.33</td>\n",
       "      <td>0.74</td>\n",
       "      <td>0.00</td>\n",
       "      <td>0.00</td>\n",
       "      <td>0.62</td>\n",
       "      <td>1.00</td>\n",
       "      <td>0.89</td>\n",
       "      <td>Matt Hobar</td>\n",
       "      <td>1.78</td>\n",
       "      <td>135.0</td>\n",
       "      <td>1.78</td>\n",
       "      <td>27.63</td>\n",
       "      <td>2.52</td>\n",
       "      <td>0.26</td>\n",
       "      <td>9.71</td>\n",
       "      <td>0.59</td>\n",
       "      <td>0.00</td>\n",
       "      <td>0.00</td>\n",
       "      <td>1.00</td>\n",
       "      <td>0.00</td>\n",
       "      <td>0.80</td>\n",
       "      <td>1</td>\n",
       "    </tr>\n",
       "    <tr>\n",
       "      <td>1</td>\n",
       "      <td>Aaron Riley</td>\n",
       "      <td>1.73</td>\n",
       "      <td>155.0</td>\n",
       "      <td>1.75</td>\n",
       "      <td>0</td>\n",
       "      <td>25.10</td>\n",
       "      <td>6.20</td>\n",
       "      <td>0.55</td>\n",
       "      <td>5.80</td>\n",
       "      <td>0.49</td>\n",
       "      <td>0.00</td>\n",
       "      <td>0.00</td>\n",
       "      <td>0.75</td>\n",
       "      <td>1.00</td>\n",
       "      <td>0.72</td>\n",
       "      <td>Spencer Fisher</td>\n",
       "      <td>1.70</td>\n",
       "      <td>155.0</td>\n",
       "      <td>1.78</td>\n",
       "      <td>29.69</td>\n",
       "      <td>2.26</td>\n",
       "      <td>0.48</td>\n",
       "      <td>8.64</td>\n",
       "      <td>0.62</td>\n",
       "      <td>1.54</td>\n",
       "      <td>0.50</td>\n",
       "      <td>1.00</td>\n",
       "      <td>4.63</td>\n",
       "      <td>0.85</td>\n",
       "      <td>1</td>\n",
       "    </tr>\n",
       "    <tr>\n",
       "      <td>2</td>\n",
       "      <td>Aaron Riley</td>\n",
       "      <td>1.73</td>\n",
       "      <td>155.0</td>\n",
       "      <td>1.75</td>\n",
       "      <td>1</td>\n",
       "      <td>27.93</td>\n",
       "      <td>5.50</td>\n",
       "      <td>0.54</td>\n",
       "      <td>5.85</td>\n",
       "      <td>0.48</td>\n",
       "      <td>1.50</td>\n",
       "      <td>0.29</td>\n",
       "      <td>0.75</td>\n",
       "      <td>0.75</td>\n",
       "      <td>0.70</td>\n",
       "      <td>Jorge Gurgel</td>\n",
       "      <td>1.70</td>\n",
       "      <td>155.0</td>\n",
       "      <td>1.75</td>\n",
       "      <td>31.81</td>\n",
       "      <td>5.80</td>\n",
       "      <td>0.50</td>\n",
       "      <td>5.80</td>\n",
       "      <td>0.50</td>\n",
       "      <td>1.00</td>\n",
       "      <td>0.50</td>\n",
       "      <td>0.50</td>\n",
       "      <td>0.00</td>\n",
       "      <td>0.64</td>\n",
       "      <td>0</td>\n",
       "    </tr>\n",
       "    <tr>\n",
       "      <td>3</td>\n",
       "      <td>Aaron Riley</td>\n",
       "      <td>1.73</td>\n",
       "      <td>155.0</td>\n",
       "      <td>1.75</td>\n",
       "      <td>1</td>\n",
       "      <td>28.66</td>\n",
       "      <td>6.91</td>\n",
       "      <td>0.52</td>\n",
       "      <td>5.96</td>\n",
       "      <td>0.45</td>\n",
       "      <td>1.26</td>\n",
       "      <td>0.38</td>\n",
       "      <td>0.58</td>\n",
       "      <td>0.42</td>\n",
       "      <td>0.69</td>\n",
       "      <td>Shane Nelson</td>\n",
       "      <td>1.75</td>\n",
       "      <td>155.0</td>\n",
       "      <td>1.78</td>\n",
       "      <td>24.69</td>\n",
       "      <td>6.85</td>\n",
       "      <td>0.42</td>\n",
       "      <td>6.85</td>\n",
       "      <td>0.42</td>\n",
       "      <td>0.00</td>\n",
       "      <td>0.00</td>\n",
       "      <td>0.00</td>\n",
       "      <td>0.00</td>\n",
       "      <td>0.78</td>\n",
       "      <td>0</td>\n",
       "    </tr>\n",
       "    <tr>\n",
       "      <td>4</td>\n",
       "      <td>Aaron Riley</td>\n",
       "      <td>1.73</td>\n",
       "      <td>155.0</td>\n",
       "      <td>1.75</td>\n",
       "      <td>1</td>\n",
       "      <td>29.47</td>\n",
       "      <td>7.68</td>\n",
       "      <td>0.53</td>\n",
       "      <td>6.10</td>\n",
       "      <td>0.50</td>\n",
       "      <td>1.11</td>\n",
       "      <td>0.38</td>\n",
       "      <td>0.11</td>\n",
       "      <td>0.00</td>\n",
       "      <td>0.68</td>\n",
       "      <td>Joe Brammer</td>\n",
       "      <td>1.73</td>\n",
       "      <td>155.0</td>\n",
       "      <td>1.73</td>\n",
       "      <td>26.77</td>\n",
       "      <td>1.39</td>\n",
       "      <td>0.24</td>\n",
       "      <td>4.17</td>\n",
       "      <td>0.58</td>\n",
       "      <td>0.00</td>\n",
       "      <td>0.00</td>\n",
       "      <td>1.00</td>\n",
       "      <td>0.00</td>\n",
       "      <td>0.70</td>\n",
       "      <td>0</td>\n",
       "    </tr>\n",
       "    <tr>\n",
       "      <td>...</td>\n",
       "      <td>...</td>\n",
       "      <td>...</td>\n",
       "      <td>...</td>\n",
       "      <td>...</td>\n",
       "      <td>...</td>\n",
       "      <td>...</td>\n",
       "      <td>...</td>\n",
       "      <td>...</td>\n",
       "      <td>...</td>\n",
       "      <td>...</td>\n",
       "      <td>...</td>\n",
       "      <td>...</td>\n",
       "      <td>...</td>\n",
       "      <td>...</td>\n",
       "      <td>...</td>\n",
       "      <td>...</td>\n",
       "      <td>...</td>\n",
       "      <td>...</td>\n",
       "      <td>...</td>\n",
       "      <td>...</td>\n",
       "      <td>...</td>\n",
       "      <td>...</td>\n",
       "      <td>...</td>\n",
       "      <td>...</td>\n",
       "      <td>...</td>\n",
       "      <td>...</td>\n",
       "      <td>...</td>\n",
       "      <td>...</td>\n",
       "      <td>...</td>\n",
       "      <td>...</td>\n",
       "    </tr>\n",
       "    <tr>\n",
       "      <td>3931</td>\n",
       "      <td>Ulka Sasaki</td>\n",
       "      <td>1.78</td>\n",
       "      <td>125.0</td>\n",
       "      <td>1.80</td>\n",
       "      <td>0</td>\n",
       "      <td>27.35</td>\n",
       "      <td>2.26</td>\n",
       "      <td>0.49</td>\n",
       "      <td>2.46</td>\n",
       "      <td>0.51</td>\n",
       "      <td>3.56</td>\n",
       "      <td>0.32</td>\n",
       "      <td>0.22</td>\n",
       "      <td>1.78</td>\n",
       "      <td>0.79</td>\n",
       "      <td>Wilson Reis</td>\n",
       "      <td>1.63</td>\n",
       "      <td>125.0</td>\n",
       "      <td>1.65</td>\n",
       "      <td>32.10</td>\n",
       "      <td>4.70</td>\n",
       "      <td>0.51</td>\n",
       "      <td>4.70</td>\n",
       "      <td>0.51</td>\n",
       "      <td>5.53</td>\n",
       "      <td>0.33</td>\n",
       "      <td>0.33</td>\n",
       "      <td>0.85</td>\n",
       "      <td>0.70</td>\n",
       "      <td>1</td>\n",
       "    </tr>\n",
       "    <tr>\n",
       "      <td>3932</td>\n",
       "      <td>Vitor Belfort</td>\n",
       "      <td>1.83</td>\n",
       "      <td>185.0</td>\n",
       "      <td>1.88</td>\n",
       "      <td>1</td>\n",
       "      <td>34.35</td>\n",
       "      <td>1.89</td>\n",
       "      <td>0.60</td>\n",
       "      <td>1.89</td>\n",
       "      <td>0.60</td>\n",
       "      <td>0.00</td>\n",
       "      <td>0.00</td>\n",
       "      <td>0.00</td>\n",
       "      <td>1.23</td>\n",
       "      <td>0.46</td>\n",
       "      <td>Yoshihiro Akiyama</td>\n",
       "      <td>1.78</td>\n",
       "      <td>170.0</td>\n",
       "      <td>1.85</td>\n",
       "      <td>36.02</td>\n",
       "      <td>4.07</td>\n",
       "      <td>0.39</td>\n",
       "      <td>4.07</td>\n",
       "      <td>0.39</td>\n",
       "      <td>2.69</td>\n",
       "      <td>0.80</td>\n",
       "      <td>0.80</td>\n",
       "      <td>0.34</td>\n",
       "      <td>0.81</td>\n",
       "      <td>0</td>\n",
       "    </tr>\n",
       "    <tr>\n",
       "      <td>3933</td>\n",
       "      <td>Viviane Pereira</td>\n",
       "      <td>1.55</td>\n",
       "      <td>115.0</td>\n",
       "      <td>1.60</td>\n",
       "      <td>0</td>\n",
       "      <td>24.82</td>\n",
       "      <td>4.71</td>\n",
       "      <td>0.46</td>\n",
       "      <td>4.71</td>\n",
       "      <td>0.46</td>\n",
       "      <td>0.33</td>\n",
       "      <td>1.00</td>\n",
       "      <td>1.00</td>\n",
       "      <td>0.33</td>\n",
       "      <td>0.86</td>\n",
       "      <td>Xiaonan Yan</td>\n",
       "      <td>1.65</td>\n",
       "      <td>115.0</td>\n",
       "      <td>1.60</td>\n",
       "      <td>29.02</td>\n",
       "      <td>7.07</td>\n",
       "      <td>0.48</td>\n",
       "      <td>7.07</td>\n",
       "      <td>0.48</td>\n",
       "      <td>0.00</td>\n",
       "      <td>0.00</td>\n",
       "      <td>0.00</td>\n",
       "      <td>0.00</td>\n",
       "      <td>0.89</td>\n",
       "      <td>1</td>\n",
       "    </tr>\n",
       "    <tr>\n",
       "      <td>3934</td>\n",
       "      <td>Walel Watson</td>\n",
       "      <td>1.80</td>\n",
       "      <td>135.0</td>\n",
       "      <td>1.75</td>\n",
       "      <td>0</td>\n",
       "      <td>27.40</td>\n",
       "      <td>7.03</td>\n",
       "      <td>0.32</td>\n",
       "      <td>7.03</td>\n",
       "      <td>0.32</td>\n",
       "      <td>0.00</td>\n",
       "      <td>0.00</td>\n",
       "      <td>0.00</td>\n",
       "      <td>0.00</td>\n",
       "      <td>0.73</td>\n",
       "      <td>Yves Jabouin</td>\n",
       "      <td>1.70</td>\n",
       "      <td>135.0</td>\n",
       "      <td>1.73</td>\n",
       "      <td>32.53</td>\n",
       "      <td>2.77</td>\n",
       "      <td>0.38</td>\n",
       "      <td>2.77</td>\n",
       "      <td>0.38</td>\n",
       "      <td>1.54</td>\n",
       "      <td>0.33</td>\n",
       "      <td>0.33</td>\n",
       "      <td>0.00</td>\n",
       "      <td>0.65</td>\n",
       "      <td>1</td>\n",
       "    </tr>\n",
       "    <tr>\n",
       "      <td>3935</td>\n",
       "      <td>Yan Cabral</td>\n",
       "      <td>1.80</td>\n",
       "      <td>155.0</td>\n",
       "      <td>1.85</td>\n",
       "      <td>0</td>\n",
       "      <td>30.99</td>\n",
       "      <td>3.13</td>\n",
       "      <td>0.59</td>\n",
       "      <td>4.22</td>\n",
       "      <td>0.57</td>\n",
       "      <td>3.33</td>\n",
       "      <td>0.56</td>\n",
       "      <td>0.58</td>\n",
       "      <td>0.33</td>\n",
       "      <td>1.00</td>\n",
       "      <td>Zak Cummings</td>\n",
       "      <td>1.83</td>\n",
       "      <td>185.0</td>\n",
       "      <td>1.90</td>\n",
       "      <td>29.77</td>\n",
       "      <td>2.78</td>\n",
       "      <td>0.63</td>\n",
       "      <td>2.78</td>\n",
       "      <td>0.63</td>\n",
       "      <td>6.94</td>\n",
       "      <td>0.67</td>\n",
       "      <td>0.67</td>\n",
       "      <td>3.47</td>\n",
       "      <td>0.79</td>\n",
       "      <td>1</td>\n",
       "    </tr>\n",
       "  </tbody>\n",
       "</table>\n",
       "<p>3936 rows × 30 columns</p>\n",
       "</div>"
      ],
      "text/plain": [
       "               name_x  height_x  weight_x  reach_x  win_x  age_x  \\\n",
       "0      Aaron Phillips      1.75     135.0     1.78      0  25.05   \n",
       "1         Aaron Riley      1.73     155.0     1.75      0  25.10   \n",
       "2         Aaron Riley      1.73     155.0     1.75      1  27.93   \n",
       "3         Aaron Riley      1.73     155.0     1.75      1  28.66   \n",
       "4         Aaron Riley      1.73     155.0     1.75      1  29.47   \n",
       "...               ...       ...       ...      ...    ...    ...   \n",
       "3931      Ulka Sasaki      1.78     125.0     1.80      0  27.35   \n",
       "3932    Vitor Belfort      1.83     185.0     1.88      1  34.35   \n",
       "3933  Viviane Pereira      1.55     115.0     1.60      0  24.82   \n",
       "3934     Walel Watson      1.80     135.0     1.75      0  27.40   \n",
       "3935       Yan Cabral      1.80     155.0     1.85      0  30.99   \n",
       "\n",
       "      str_landed_per_min_x  str_acc_x  str_absorb_per_min_x  str_def_x  \\\n",
       "0                     7.27       0.80                  6.33       0.74   \n",
       "1                     6.20       0.55                  5.80       0.49   \n",
       "2                     5.50       0.54                  5.85       0.48   \n",
       "3                     6.91       0.52                  5.96       0.45   \n",
       "4                     7.68       0.53                  6.10       0.50   \n",
       "...                    ...        ...                   ...        ...   \n",
       "3931                  2.26       0.49                  2.46       0.51   \n",
       "3932                  1.89       0.60                  1.89       0.60   \n",
       "3933                  4.71       0.46                  4.71       0.46   \n",
       "3934                  7.03       0.32                  7.03       0.32   \n",
       "3935                  3.13       0.59                  4.22       0.57   \n",
       "\n",
       "      td_avg_x  td_acc_x  td_def_x  sub_avg_x  win_percentage_x  \\\n",
       "0         0.00      0.00      0.62       1.00              0.89   \n",
       "1         0.00      0.00      0.75       1.00              0.72   \n",
       "2         1.50      0.29      0.75       0.75              0.70   \n",
       "3         1.26      0.38      0.58       0.42              0.69   \n",
       "4         1.11      0.38      0.11       0.00              0.68   \n",
       "...        ...       ...       ...        ...               ...   \n",
       "3931      3.56      0.32      0.22       1.78              0.79   \n",
       "3932      0.00      0.00      0.00       1.23              0.46   \n",
       "3933      0.33      1.00      1.00       0.33              0.86   \n",
       "3934      0.00      0.00      0.00       0.00              0.73   \n",
       "3935      3.33      0.56      0.58       0.33              1.00   \n",
       "\n",
       "                 name_y  height_y  weight_y  reach_y  age_y  \\\n",
       "0            Matt Hobar      1.78     135.0     1.78  27.63   \n",
       "1        Spencer Fisher      1.70     155.0     1.78  29.69   \n",
       "2          Jorge Gurgel      1.70     155.0     1.75  31.81   \n",
       "3          Shane Nelson      1.75     155.0     1.78  24.69   \n",
       "4           Joe Brammer      1.73     155.0     1.73  26.77   \n",
       "...                 ...       ...       ...      ...    ...   \n",
       "3931        Wilson Reis      1.63     125.0     1.65  32.10   \n",
       "3932  Yoshihiro Akiyama      1.78     170.0     1.85  36.02   \n",
       "3933        Xiaonan Yan      1.65     115.0     1.60  29.02   \n",
       "3934       Yves Jabouin      1.70     135.0     1.73  32.53   \n",
       "3935       Zak Cummings      1.83     185.0     1.90  29.77   \n",
       "\n",
       "      str_landed_per_min_y  str_acc_y  str_absorb_per_min_y  str_def_y  \\\n",
       "0                     2.52       0.26                  9.71       0.59   \n",
       "1                     2.26       0.48                  8.64       0.62   \n",
       "2                     5.80       0.50                  5.80       0.50   \n",
       "3                     6.85       0.42                  6.85       0.42   \n",
       "4                     1.39       0.24                  4.17       0.58   \n",
       "...                    ...        ...                   ...        ...   \n",
       "3931                  4.70       0.51                  4.70       0.51   \n",
       "3932                  4.07       0.39                  4.07       0.39   \n",
       "3933                  7.07       0.48                  7.07       0.48   \n",
       "3934                  2.77       0.38                  2.77       0.38   \n",
       "3935                  2.78       0.63                  2.78       0.63   \n",
       "\n",
       "      td_avg_y  td_acc_y  td_def_y  sub_avg_y  win_percentage_y  win_y  \n",
       "0         0.00      0.00      1.00       0.00              0.80      1  \n",
       "1         1.54      0.50      1.00       4.63              0.85      1  \n",
       "2         1.00      0.50      0.50       0.00              0.64      0  \n",
       "3         0.00      0.00      0.00       0.00              0.78      0  \n",
       "4         0.00      0.00      1.00       0.00              0.70      0  \n",
       "...        ...       ...       ...        ...               ...    ...  \n",
       "3931      5.53      0.33      0.33       0.85              0.70      1  \n",
       "3932      2.69      0.80      0.80       0.34              0.81      0  \n",
       "3933      0.00      0.00      0.00       0.00              0.89      1  \n",
       "3934      1.54      0.33      0.33       0.00              0.65      1  \n",
       "3935      6.94      0.67      0.67       3.47              0.79      1  \n",
       "\n",
       "[3936 rows x 30 columns]"
      ]
     },
     "execution_count": 191,
     "metadata": {},
     "output_type": "execute_result"
    }
   ],
   "source": [
    "df"
   ]
  },
  {
   "cell_type": "code",
   "execution_count": 192,
   "metadata": {},
   "outputs": [],
   "source": [
    "def index_shuffle(df):\n",
    "    random_index = np.random.choice(len(df), size=math.ceil(len(df)/2), replace=False)\n",
    "    return random_index"
   ]
  },
  {
   "cell_type": "code",
   "execution_count": 193,
   "metadata": {},
   "outputs": [],
   "source": [
    "def get_column_names(suffix):\n",
    "    column_names = [col for col in df.columns if suffix in col]\n",
    "    return column_names"
   ]
  },
  {
   "cell_type": "code",
   "execution_count": 194,
   "metadata": {},
   "outputs": [],
   "source": [
    "def get_column_index(column_names):\n",
    "    columns_index = []\n",
    "    [\n",
    "        columns_index.append(df.columns.get_loc(col)) for col in df.columns if col in column_names\n",
    "    ]\n",
    "    return columns_index"
   ]
  },
  {
   "cell_type": "code",
   "execution_count": 195,
   "metadata": {},
   "outputs": [],
   "source": [
    "def rearrange_data(col_index1, col_index2, df_copy):\n",
    "    df.iloc[random_winner_index, col_index1] = df.iloc[random_winner_index, col_index2].values\n",
    "    df.iloc[random_winner_index, col_index2] = df.iloc[random_winner_index, col_index1].values"
   ]
  },
  {
   "cell_type": "code",
   "execution_count": 196,
   "metadata": {},
   "outputs": [],
   "source": [
    "random_index = index_shuffle(df)"
   ]
  },
  {
   "cell_type": "code",
   "execution_count": 201,
   "metadata": {},
   "outputs": [],
   "source": [
    "fx_index = df.columns.get_loc(\"name_x\")\n",
    "fy_index = df.columns.get_loc(\"name_y\")"
   ]
  },
  {
   "cell_type": "code",
   "execution_count": 202,
   "metadata": {},
   "outputs": [],
   "source": [
    "df.iloc[random_index, [fx_index, fy_index]] = df.iloc[random_index, [fx_index, fy_index]].values"
   ]
  },
  {
   "cell_type": "code",
   "execution_count": 203,
   "metadata": {},
   "outputs": [],
   "source": [
    "fighter_x_columns = get_column_names(\"_x\")\n",
    "fighter_y_columns = get_column_names(\"_y\")"
   ]
  },
  {
   "cell_type": "code",
   "execution_count": 204,
   "metadata": {},
   "outputs": [],
   "source": [
    "fighter_x_col_index = get_column_index(fighter_x_columns)\n",
    "fighter_y_col_index = get_column_index(fighter_y_columns)"
   ]
  },
  {
   "cell_type": "code",
   "execution_count": 205,
   "metadata": {},
   "outputs": [
    {
     "data": {
      "text/plain": [
       "[15, 16, 17, 18, 19, 20, 21, 22, 23, 24, 25, 26, 27, 28, 29]"
      ]
     },
     "execution_count": 205,
     "metadata": {},
     "output_type": "execute_result"
    }
   ],
   "source": [
    "fighter_y_col_index"
   ]
  },
  {
   "cell_type": "code",
   "execution_count": 206,
   "metadata": {},
   "outputs": [],
   "source": [
    "df_copy = df.copy()"
   ]
  },
  {
   "cell_type": "code",
   "execution_count": 207,
   "metadata": {},
   "outputs": [],
   "source": [
    "rearrange_data(fighter_x_col_index, fighter_y_col_index, df_copy)"
   ]
  },
  {
   "cell_type": "code",
   "execution_count": 208,
   "metadata": {},
   "outputs": [
    {
     "data": {
      "text/html": [
       "<div>\n",
       "<style scoped>\n",
       "    .dataframe tbody tr th:only-of-type {\n",
       "        vertical-align: middle;\n",
       "    }\n",
       "\n",
       "    .dataframe tbody tr th {\n",
       "        vertical-align: top;\n",
       "    }\n",
       "\n",
       "    .dataframe thead th {\n",
       "        text-align: right;\n",
       "    }\n",
       "</style>\n",
       "<table border=\"1\" class=\"dataframe\">\n",
       "  <thead>\n",
       "    <tr style=\"text-align: right;\">\n",
       "      <th></th>\n",
       "      <th>name_x</th>\n",
       "      <th>height_x</th>\n",
       "      <th>weight_x</th>\n",
       "      <th>reach_x</th>\n",
       "      <th>win_x</th>\n",
       "      <th>age_x</th>\n",
       "      <th>str_landed_per_min_x</th>\n",
       "      <th>str_acc_x</th>\n",
       "      <th>str_absorb_per_min_x</th>\n",
       "      <th>str_def_x</th>\n",
       "      <th>td_avg_x</th>\n",
       "      <th>td_acc_x</th>\n",
       "      <th>td_def_x</th>\n",
       "      <th>sub_avg_x</th>\n",
       "      <th>win_percentage_x</th>\n",
       "      <th>name_y</th>\n",
       "      <th>height_y</th>\n",
       "      <th>weight_y</th>\n",
       "      <th>reach_y</th>\n",
       "      <th>age_y</th>\n",
       "      <th>str_landed_per_min_y</th>\n",
       "      <th>str_acc_y</th>\n",
       "      <th>str_absorb_per_min_y</th>\n",
       "      <th>str_def_y</th>\n",
       "      <th>td_avg_y</th>\n",
       "      <th>td_acc_y</th>\n",
       "      <th>td_def_y</th>\n",
       "      <th>sub_avg_y</th>\n",
       "      <th>win_percentage_y</th>\n",
       "      <th>win_y</th>\n",
       "    </tr>\n",
       "  </thead>\n",
       "  <tbody>\n",
       "    <tr>\n",
       "      <td>0</td>\n",
       "      <td>Matt Hobar</td>\n",
       "      <td>1.78</td>\n",
       "      <td>135.0</td>\n",
       "      <td>1.78</td>\n",
       "      <td>27.63</td>\n",
       "      <td>2.52</td>\n",
       "      <td>0.26</td>\n",
       "      <td>9.71</td>\n",
       "      <td>0.59</td>\n",
       "      <td>0.00</td>\n",
       "      <td>0.00</td>\n",
       "      <td>1.00</td>\n",
       "      <td>0.00</td>\n",
       "      <td>0.80</td>\n",
       "      <td>1.00</td>\n",
       "      <td>Matt Hobar</td>\n",
       "      <td>1.78</td>\n",
       "      <td>135.0</td>\n",
       "      <td>1.78</td>\n",
       "      <td>27.63</td>\n",
       "      <td>2.52</td>\n",
       "      <td>0.26</td>\n",
       "      <td>9.71</td>\n",
       "      <td>0.59</td>\n",
       "      <td>0.00</td>\n",
       "      <td>0.00</td>\n",
       "      <td>1.00</td>\n",
       "      <td>0.00</td>\n",
       "      <td>0.80</td>\n",
       "      <td>1.0</td>\n",
       "    </tr>\n",
       "    <tr>\n",
       "      <td>1</td>\n",
       "      <td>Aaron Riley</td>\n",
       "      <td>1.73</td>\n",
       "      <td>155.0</td>\n",
       "      <td>1.75</td>\n",
       "      <td>0.00</td>\n",
       "      <td>25.10</td>\n",
       "      <td>6.20</td>\n",
       "      <td>0.55</td>\n",
       "      <td>5.80</td>\n",
       "      <td>0.49</td>\n",
       "      <td>0.00</td>\n",
       "      <td>0.00</td>\n",
       "      <td>0.75</td>\n",
       "      <td>1.00</td>\n",
       "      <td>0.72</td>\n",
       "      <td>Spencer Fisher</td>\n",
       "      <td>1.70</td>\n",
       "      <td>155.0</td>\n",
       "      <td>1.78</td>\n",
       "      <td>29.69</td>\n",
       "      <td>2.26</td>\n",
       "      <td>0.48</td>\n",
       "      <td>8.64</td>\n",
       "      <td>0.62</td>\n",
       "      <td>1.54</td>\n",
       "      <td>0.50</td>\n",
       "      <td>1.00</td>\n",
       "      <td>4.63</td>\n",
       "      <td>0.85</td>\n",
       "      <td>1.0</td>\n",
       "    </tr>\n",
       "    <tr>\n",
       "      <td>2</td>\n",
       "      <td>Aaron Riley</td>\n",
       "      <td>1.73</td>\n",
       "      <td>155.0</td>\n",
       "      <td>1.75</td>\n",
       "      <td>1.00</td>\n",
       "      <td>27.93</td>\n",
       "      <td>5.50</td>\n",
       "      <td>0.54</td>\n",
       "      <td>5.85</td>\n",
       "      <td>0.48</td>\n",
       "      <td>1.50</td>\n",
       "      <td>0.29</td>\n",
       "      <td>0.75</td>\n",
       "      <td>0.75</td>\n",
       "      <td>0.70</td>\n",
       "      <td>Jorge Gurgel</td>\n",
       "      <td>1.70</td>\n",
       "      <td>155.0</td>\n",
       "      <td>1.75</td>\n",
       "      <td>31.81</td>\n",
       "      <td>5.80</td>\n",
       "      <td>0.50</td>\n",
       "      <td>5.80</td>\n",
       "      <td>0.50</td>\n",
       "      <td>1.00</td>\n",
       "      <td>0.50</td>\n",
       "      <td>0.50</td>\n",
       "      <td>0.00</td>\n",
       "      <td>0.64</td>\n",
       "      <td>0.0</td>\n",
       "    </tr>\n",
       "    <tr>\n",
       "      <td>3</td>\n",
       "      <td>Shane Nelson</td>\n",
       "      <td>1.75</td>\n",
       "      <td>155.0</td>\n",
       "      <td>1.78</td>\n",
       "      <td>24.69</td>\n",
       "      <td>6.85</td>\n",
       "      <td>0.42</td>\n",
       "      <td>6.85</td>\n",
       "      <td>0.42</td>\n",
       "      <td>0.00</td>\n",
       "      <td>0.00</td>\n",
       "      <td>0.00</td>\n",
       "      <td>0.00</td>\n",
       "      <td>0.78</td>\n",
       "      <td>0.00</td>\n",
       "      <td>Shane Nelson</td>\n",
       "      <td>1.75</td>\n",
       "      <td>155.0</td>\n",
       "      <td>1.78</td>\n",
       "      <td>24.69</td>\n",
       "      <td>6.85</td>\n",
       "      <td>0.42</td>\n",
       "      <td>6.85</td>\n",
       "      <td>0.42</td>\n",
       "      <td>0.00</td>\n",
       "      <td>0.00</td>\n",
       "      <td>0.00</td>\n",
       "      <td>0.00</td>\n",
       "      <td>0.78</td>\n",
       "      <td>0.0</td>\n",
       "    </tr>\n",
       "    <tr>\n",
       "      <td>4</td>\n",
       "      <td>Aaron Riley</td>\n",
       "      <td>1.73</td>\n",
       "      <td>155.0</td>\n",
       "      <td>1.75</td>\n",
       "      <td>1.00</td>\n",
       "      <td>29.47</td>\n",
       "      <td>7.68</td>\n",
       "      <td>0.53</td>\n",
       "      <td>6.10</td>\n",
       "      <td>0.50</td>\n",
       "      <td>1.11</td>\n",
       "      <td>0.38</td>\n",
       "      <td>0.11</td>\n",
       "      <td>0.00</td>\n",
       "      <td>0.68</td>\n",
       "      <td>Joe Brammer</td>\n",
       "      <td>1.73</td>\n",
       "      <td>155.0</td>\n",
       "      <td>1.73</td>\n",
       "      <td>26.77</td>\n",
       "      <td>1.39</td>\n",
       "      <td>0.24</td>\n",
       "      <td>4.17</td>\n",
       "      <td>0.58</td>\n",
       "      <td>0.00</td>\n",
       "      <td>0.00</td>\n",
       "      <td>1.00</td>\n",
       "      <td>0.00</td>\n",
       "      <td>0.70</td>\n",
       "      <td>0.0</td>\n",
       "    </tr>\n",
       "    <tr>\n",
       "      <td>...</td>\n",
       "      <td>...</td>\n",
       "      <td>...</td>\n",
       "      <td>...</td>\n",
       "      <td>...</td>\n",
       "      <td>...</td>\n",
       "      <td>...</td>\n",
       "      <td>...</td>\n",
       "      <td>...</td>\n",
       "      <td>...</td>\n",
       "      <td>...</td>\n",
       "      <td>...</td>\n",
       "      <td>...</td>\n",
       "      <td>...</td>\n",
       "      <td>...</td>\n",
       "      <td>...</td>\n",
       "      <td>...</td>\n",
       "      <td>...</td>\n",
       "      <td>...</td>\n",
       "      <td>...</td>\n",
       "      <td>...</td>\n",
       "      <td>...</td>\n",
       "      <td>...</td>\n",
       "      <td>...</td>\n",
       "      <td>...</td>\n",
       "      <td>...</td>\n",
       "      <td>...</td>\n",
       "      <td>...</td>\n",
       "      <td>...</td>\n",
       "      <td>...</td>\n",
       "      <td>...</td>\n",
       "    </tr>\n",
       "    <tr>\n",
       "      <td>3931</td>\n",
       "      <td>Wilson Reis</td>\n",
       "      <td>1.63</td>\n",
       "      <td>125.0</td>\n",
       "      <td>1.65</td>\n",
       "      <td>32.10</td>\n",
       "      <td>4.70</td>\n",
       "      <td>0.51</td>\n",
       "      <td>4.70</td>\n",
       "      <td>0.51</td>\n",
       "      <td>5.53</td>\n",
       "      <td>0.33</td>\n",
       "      <td>0.33</td>\n",
       "      <td>0.85</td>\n",
       "      <td>0.70</td>\n",
       "      <td>1.00</td>\n",
       "      <td>Wilson Reis</td>\n",
       "      <td>1.63</td>\n",
       "      <td>125.0</td>\n",
       "      <td>1.65</td>\n",
       "      <td>32.10</td>\n",
       "      <td>4.70</td>\n",
       "      <td>0.51</td>\n",
       "      <td>4.70</td>\n",
       "      <td>0.51</td>\n",
       "      <td>5.53</td>\n",
       "      <td>0.33</td>\n",
       "      <td>0.33</td>\n",
       "      <td>0.85</td>\n",
       "      <td>0.70</td>\n",
       "      <td>1.0</td>\n",
       "    </tr>\n",
       "    <tr>\n",
       "      <td>3932</td>\n",
       "      <td>Vitor Belfort</td>\n",
       "      <td>1.83</td>\n",
       "      <td>185.0</td>\n",
       "      <td>1.88</td>\n",
       "      <td>1.00</td>\n",
       "      <td>34.35</td>\n",
       "      <td>1.89</td>\n",
       "      <td>0.60</td>\n",
       "      <td>1.89</td>\n",
       "      <td>0.60</td>\n",
       "      <td>0.00</td>\n",
       "      <td>0.00</td>\n",
       "      <td>0.00</td>\n",
       "      <td>1.23</td>\n",
       "      <td>0.46</td>\n",
       "      <td>Yoshihiro Akiyama</td>\n",
       "      <td>1.78</td>\n",
       "      <td>170.0</td>\n",
       "      <td>1.85</td>\n",
       "      <td>36.02</td>\n",
       "      <td>4.07</td>\n",
       "      <td>0.39</td>\n",
       "      <td>4.07</td>\n",
       "      <td>0.39</td>\n",
       "      <td>2.69</td>\n",
       "      <td>0.80</td>\n",
       "      <td>0.80</td>\n",
       "      <td>0.34</td>\n",
       "      <td>0.81</td>\n",
       "      <td>0.0</td>\n",
       "    </tr>\n",
       "    <tr>\n",
       "      <td>3933</td>\n",
       "      <td>Xiaonan Yan</td>\n",
       "      <td>1.65</td>\n",
       "      <td>115.0</td>\n",
       "      <td>1.60</td>\n",
       "      <td>29.02</td>\n",
       "      <td>7.07</td>\n",
       "      <td>0.48</td>\n",
       "      <td>7.07</td>\n",
       "      <td>0.48</td>\n",
       "      <td>0.00</td>\n",
       "      <td>0.00</td>\n",
       "      <td>0.00</td>\n",
       "      <td>0.00</td>\n",
       "      <td>0.89</td>\n",
       "      <td>1.00</td>\n",
       "      <td>Xiaonan Yan</td>\n",
       "      <td>1.65</td>\n",
       "      <td>115.0</td>\n",
       "      <td>1.60</td>\n",
       "      <td>29.02</td>\n",
       "      <td>7.07</td>\n",
       "      <td>0.48</td>\n",
       "      <td>7.07</td>\n",
       "      <td>0.48</td>\n",
       "      <td>0.00</td>\n",
       "      <td>0.00</td>\n",
       "      <td>0.00</td>\n",
       "      <td>0.00</td>\n",
       "      <td>0.89</td>\n",
       "      <td>1.0</td>\n",
       "    </tr>\n",
       "    <tr>\n",
       "      <td>3934</td>\n",
       "      <td>Walel Watson</td>\n",
       "      <td>1.80</td>\n",
       "      <td>135.0</td>\n",
       "      <td>1.75</td>\n",
       "      <td>0.00</td>\n",
       "      <td>27.40</td>\n",
       "      <td>7.03</td>\n",
       "      <td>0.32</td>\n",
       "      <td>7.03</td>\n",
       "      <td>0.32</td>\n",
       "      <td>0.00</td>\n",
       "      <td>0.00</td>\n",
       "      <td>0.00</td>\n",
       "      <td>0.00</td>\n",
       "      <td>0.73</td>\n",
       "      <td>Yves Jabouin</td>\n",
       "      <td>1.70</td>\n",
       "      <td>135.0</td>\n",
       "      <td>1.73</td>\n",
       "      <td>32.53</td>\n",
       "      <td>2.77</td>\n",
       "      <td>0.38</td>\n",
       "      <td>2.77</td>\n",
       "      <td>0.38</td>\n",
       "      <td>1.54</td>\n",
       "      <td>0.33</td>\n",
       "      <td>0.33</td>\n",
       "      <td>0.00</td>\n",
       "      <td>0.65</td>\n",
       "      <td>1.0</td>\n",
       "    </tr>\n",
       "    <tr>\n",
       "      <td>3935</td>\n",
       "      <td>Zak Cummings</td>\n",
       "      <td>1.83</td>\n",
       "      <td>185.0</td>\n",
       "      <td>1.90</td>\n",
       "      <td>29.77</td>\n",
       "      <td>2.78</td>\n",
       "      <td>0.63</td>\n",
       "      <td>2.78</td>\n",
       "      <td>0.63</td>\n",
       "      <td>6.94</td>\n",
       "      <td>0.67</td>\n",
       "      <td>0.67</td>\n",
       "      <td>3.47</td>\n",
       "      <td>0.79</td>\n",
       "      <td>1.00</td>\n",
       "      <td>Zak Cummings</td>\n",
       "      <td>1.83</td>\n",
       "      <td>185.0</td>\n",
       "      <td>1.90</td>\n",
       "      <td>29.77</td>\n",
       "      <td>2.78</td>\n",
       "      <td>0.63</td>\n",
       "      <td>2.78</td>\n",
       "      <td>0.63</td>\n",
       "      <td>6.94</td>\n",
       "      <td>0.67</td>\n",
       "      <td>0.67</td>\n",
       "      <td>3.47</td>\n",
       "      <td>0.79</td>\n",
       "      <td>1.0</td>\n",
       "    </tr>\n",
       "  </tbody>\n",
       "</table>\n",
       "<p>3936 rows × 30 columns</p>\n",
       "</div>"
      ],
      "text/plain": [
       "             name_x  height_x  weight_x  reach_x  win_x  age_x  \\\n",
       "0        Matt Hobar      1.78     135.0     1.78  27.63   2.52   \n",
       "1       Aaron Riley      1.73     155.0     1.75   0.00  25.10   \n",
       "2       Aaron Riley      1.73     155.0     1.75   1.00  27.93   \n",
       "3      Shane Nelson      1.75     155.0     1.78  24.69   6.85   \n",
       "4       Aaron Riley      1.73     155.0     1.75   1.00  29.47   \n",
       "...             ...       ...       ...      ...    ...    ...   \n",
       "3931    Wilson Reis      1.63     125.0     1.65  32.10   4.70   \n",
       "3932  Vitor Belfort      1.83     185.0     1.88   1.00  34.35   \n",
       "3933    Xiaonan Yan      1.65     115.0     1.60  29.02   7.07   \n",
       "3934   Walel Watson      1.80     135.0     1.75   0.00  27.40   \n",
       "3935   Zak Cummings      1.83     185.0     1.90  29.77   2.78   \n",
       "\n",
       "      str_landed_per_min_x  str_acc_x  str_absorb_per_min_x  str_def_x  \\\n",
       "0                     0.26       9.71                  0.59       0.00   \n",
       "1                     6.20       0.55                  5.80       0.49   \n",
       "2                     5.50       0.54                  5.85       0.48   \n",
       "3                     0.42       6.85                  0.42       0.00   \n",
       "4                     7.68       0.53                  6.10       0.50   \n",
       "...                    ...        ...                   ...        ...   \n",
       "3931                  0.51       4.70                  0.51       5.53   \n",
       "3932                  1.89       0.60                  1.89       0.60   \n",
       "3933                  0.48       7.07                  0.48       0.00   \n",
       "3934                  7.03       0.32                  7.03       0.32   \n",
       "3935                  0.63       2.78                  0.63       6.94   \n",
       "\n",
       "      td_avg_x  td_acc_x  td_def_x  sub_avg_x  win_percentage_x  \\\n",
       "0         0.00      1.00      0.00       0.80              1.00   \n",
       "1         0.00      0.00      0.75       1.00              0.72   \n",
       "2         1.50      0.29      0.75       0.75              0.70   \n",
       "3         0.00      0.00      0.00       0.78              0.00   \n",
       "4         1.11      0.38      0.11       0.00              0.68   \n",
       "...        ...       ...       ...        ...               ...   \n",
       "3931      0.33      0.33      0.85       0.70              1.00   \n",
       "3932      0.00      0.00      0.00       1.23              0.46   \n",
       "3933      0.00      0.00      0.00       0.89              1.00   \n",
       "3934      0.00      0.00      0.00       0.00              0.73   \n",
       "3935      0.67      0.67      3.47       0.79              1.00   \n",
       "\n",
       "                 name_y  height_y  weight_y  reach_y  age_y  \\\n",
       "0            Matt Hobar      1.78     135.0     1.78  27.63   \n",
       "1        Spencer Fisher      1.70     155.0     1.78  29.69   \n",
       "2          Jorge Gurgel      1.70     155.0     1.75  31.81   \n",
       "3          Shane Nelson      1.75     155.0     1.78  24.69   \n",
       "4           Joe Brammer      1.73     155.0     1.73  26.77   \n",
       "...                 ...       ...       ...      ...    ...   \n",
       "3931        Wilson Reis      1.63     125.0     1.65  32.10   \n",
       "3932  Yoshihiro Akiyama      1.78     170.0     1.85  36.02   \n",
       "3933        Xiaonan Yan      1.65     115.0     1.60  29.02   \n",
       "3934       Yves Jabouin      1.70     135.0     1.73  32.53   \n",
       "3935       Zak Cummings      1.83     185.0     1.90  29.77   \n",
       "\n",
       "      str_landed_per_min_y  str_acc_y  str_absorb_per_min_y  str_def_y  \\\n",
       "0                     2.52       0.26                  9.71       0.59   \n",
       "1                     2.26       0.48                  8.64       0.62   \n",
       "2                     5.80       0.50                  5.80       0.50   \n",
       "3                     6.85       0.42                  6.85       0.42   \n",
       "4                     1.39       0.24                  4.17       0.58   \n",
       "...                    ...        ...                   ...        ...   \n",
       "3931                  4.70       0.51                  4.70       0.51   \n",
       "3932                  4.07       0.39                  4.07       0.39   \n",
       "3933                  7.07       0.48                  7.07       0.48   \n",
       "3934                  2.77       0.38                  2.77       0.38   \n",
       "3935                  2.78       0.63                  2.78       0.63   \n",
       "\n",
       "      td_avg_y  td_acc_y  td_def_y  sub_avg_y  win_percentage_y  win_y  \n",
       "0         0.00      0.00      1.00       0.00              0.80    1.0  \n",
       "1         1.54      0.50      1.00       4.63              0.85    1.0  \n",
       "2         1.00      0.50      0.50       0.00              0.64    0.0  \n",
       "3         0.00      0.00      0.00       0.00              0.78    0.0  \n",
       "4         0.00      0.00      1.00       0.00              0.70    0.0  \n",
       "...        ...       ...       ...        ...               ...    ...  \n",
       "3931      5.53      0.33      0.33       0.85              0.70    1.0  \n",
       "3932      2.69      0.80      0.80       0.34              0.81    0.0  \n",
       "3933      0.00      0.00      0.00       0.00              0.89    1.0  \n",
       "3934      1.54      0.33      0.33       0.00              0.65    1.0  \n",
       "3935      6.94      0.67      0.67       3.47              0.79    1.0  \n",
       "\n",
       "[3936 rows x 30 columns]"
      ]
     },
     "execution_count": 208,
     "metadata": {},
     "output_type": "execute_result"
    }
   ],
   "source": [
    "df"
   ]
  },
  {
   "cell_type": "code",
   "execution_count": null,
   "metadata": {},
   "outputs": [],
   "source": []
  },
  {
   "cell_type": "markdown",
   "metadata": {},
   "source": [
    "# 2. Data Transformations"
   ]
  },
  {
   "cell_type": "code",
   "execution_count": 102,
   "metadata": {},
   "outputs": [],
   "source": [
    "y = df[['fx_win']]"
   ]
  },
  {
   "cell_type": "code",
   "execution_count": 103,
   "metadata": {},
   "outputs": [],
   "source": [
    "X = df.drop(columns=['fx_win'])"
   ]
  },
  {
   "cell_type": "code",
   "execution_count": 104,
   "metadata": {},
   "outputs": [],
   "source": [
    "X_train, X_test, y_train, y_test = train_test_split(X, y, test_size=400, random_state=50, stratify=y)\n",
    "X_train, X_val, y_train, y_val = train_test_split(X_train, y_train, test_size=0.2, random_state=50, stratify=y_train)"
   ]
  },
  {
   "cell_type": "code",
   "execution_count": 105,
   "metadata": {},
   "outputs": [],
   "source": [
    "x_cols = [col for col in X.columns if '_x' in col]\n",
    "y_cols = [col for col in X.columns if '_y' in col]"
   ]
  },
  {
   "cell_type": "code",
   "execution_count": 106,
   "metadata": {},
   "outputs": [],
   "source": [
    "scaler = RobustScaler()\n",
    "\n",
    "X_train[x_cols] = scaler.fit_transform(X_train[x_cols])\n",
    "X_train[y_cols] = scaler.fit_transform(X_train[y_cols])"
   ]
  },
  {
   "cell_type": "code",
   "execution_count": 107,
   "metadata": {},
   "outputs": [],
   "source": [
    "X_val[x_cols] = scaler.transform(X_val[x_cols])\n",
    "X_val[y_cols] = scaler.transform(X_val[y_cols])"
   ]
  },
  {
   "cell_type": "code",
   "execution_count": 108,
   "metadata": {},
   "outputs": [],
   "source": [
    "X_test[x_cols] = scaler.transform(X_test[x_cols])\n",
    "X_test[y_cols] = scaler.transform(X_test[y_cols])"
   ]
  },
  {
   "cell_type": "code",
   "execution_count": 113,
   "metadata": {},
   "outputs": [],
   "source": [
    "dump(scaler, open('scaler.pkl', 'wb'))"
   ]
  },
  {
   "cell_type": "markdown",
   "metadata": {},
   "source": [
    "# 3. Modelling"
   ]
  },
  {
   "cell_type": "code",
   "execution_count": 52,
   "metadata": {},
   "outputs": [],
   "source": [
    "skf = StratifiedKFold(n_splits=5, random_state=50)"
   ]
  },
  {
   "cell_type": "markdown",
   "metadata": {},
   "source": [
    "## 3.1. Logistic Regression"
   ]
  },
  {
   "cell_type": "code",
   "execution_count": 25,
   "metadata": {},
   "outputs": [],
   "source": [
    "log_reg1 = Classification(\"Logistic Regression\", X_train, X_val, y_train, y_val)"
   ]
  },
  {
   "cell_type": "code",
   "execution_count": 26,
   "metadata": {},
   "outputs": [
    {
     "data": {
      "text/html": [
       "<div>\n",
       "<style scoped>\n",
       "    .dataframe tbody tr th:only-of-type {\n",
       "        vertical-align: middle;\n",
       "    }\n",
       "\n",
       "    .dataframe tbody tr th {\n",
       "        vertical-align: top;\n",
       "    }\n",
       "\n",
       "    .dataframe thead th {\n",
       "        text-align: right;\n",
       "    }\n",
       "</style>\n",
       "<table border=\"1\" class=\"dataframe\">\n",
       "  <thead>\n",
       "    <tr style=\"text-align: right;\">\n",
       "      <th></th>\n",
       "      <th>Model</th>\n",
       "      <th>Train AUC</th>\n",
       "      <th>Validation AUC</th>\n",
       "    </tr>\n",
       "  </thead>\n",
       "  <tbody>\n",
       "    <tr>\n",
       "      <td>0</td>\n",
       "      <td>Logistic Regression</td>\n",
       "      <td>0.658358</td>\n",
       "      <td>0.612182</td>\n",
       "    </tr>\n",
       "  </tbody>\n",
       "</table>\n",
       "</div>"
      ],
      "text/plain": [
       "                 Model  Train AUC  Validation AUC\n",
       "0  Logistic Regression   0.658358        0.612182"
      ]
     },
     "metadata": {},
     "output_type": "display_data"
    },
    {
     "name": "stdout",
     "output_type": "stream",
     "text": [
      "The best hyperparameters are:  {'C': 0.1, 'penalty': 'l1', 'solver': 'saga'} \n",
      "\n"
     ]
    },
    {
     "data": {
      "image/png": "[encoded data removed]",
      "text/plain": [
       "<Figure size 504x504 with 1 Axes>"
      ]
     },
     "metadata": {
      "needs_background": "light"
     },
     "output_type": "display_data"
    }
   ],
   "source": [
    "param_grid = {'C': [0.01,0.1,1,10,100],\n",
    "             'penalty': ['l1','l2'],\n",
    "             'solver': ['liblinear','saga']}\n",
    "log_reg1.get_scores(param_grid, skf)"
   ]
  },
  {
   "cell_type": "markdown",
   "metadata": {},
   "source": [
    "## 3.2. Support Vector Machine"
   ]
  },
  {
   "cell_type": "code",
   "execution_count": 27,
   "metadata": {},
   "outputs": [],
   "source": [
    "svm1 = Classification(\"SVM\", X_train, X_val, y_train, y_val)"
   ]
  },
  {
   "cell_type": "code",
   "execution_count": 28,
   "metadata": {},
   "outputs": [
    {
     "data": {
      "text/html": [
       "<div>\n",
       "<style scoped>\n",
       "    .dataframe tbody tr th:only-of-type {\n",
       "        vertical-align: middle;\n",
       "    }\n",
       "\n",
       "    .dataframe tbody tr th {\n",
       "        vertical-align: top;\n",
       "    }\n",
       "\n",
       "    .dataframe thead th {\n",
       "        text-align: right;\n",
       "    }\n",
       "</style>\n",
       "<table border=\"1\" class=\"dataframe\">\n",
       "  <thead>\n",
       "    <tr style=\"text-align: right;\">\n",
       "      <th></th>\n",
       "      <th>Model</th>\n",
       "      <th>Train AUC</th>\n",
       "      <th>Validation AUC</th>\n",
       "    </tr>\n",
       "  </thead>\n",
       "  <tbody>\n",
       "    <tr>\n",
       "      <td>0</td>\n",
       "      <td>SVM</td>\n",
       "      <td>0.835662</td>\n",
       "      <td>0.674616</td>\n",
       "    </tr>\n",
       "  </tbody>\n",
       "</table>\n",
       "</div>"
      ],
      "text/plain": [
       "  Model  Train AUC  Validation AUC\n",
       "0   SVM   0.835662        0.674616"
      ]
     },
     "metadata": {},
     "output_type": "display_data"
    },
    {
     "name": "stdout",
     "output_type": "stream",
     "text": [
      "The best hyperparameters are:  {'C': 1, 'decision_function_shape': 'ovo', 'degree': 1, 'gamma': 'scale'} \n",
      "\n"
     ]
    },
    {
     "data": {
      "image/png": "[encoded data removed]",
      "text/plain": [
       "<Figure size 504x504 with 1 Axes>"
      ]
     },
     "metadata": {
      "needs_background": "light"
     },
     "output_type": "display_data"
    }
   ],
   "source": [
    "param_grid = {'C':[1,2,3,4,5,6],\n",
    "             'degree':[1,2,3,4,5,6],\n",
    "             'gamma':['scale','auto'],\n",
    "             'decision_function_shape':['ovo','ovr']}\n",
    "svm1.get_scores(param_grid, skf)"
   ]
  },
  {
   "cell_type": "markdown",
   "metadata": {},
   "source": [
    "## 3.3. Decision Tree"
   ]
  },
  {
   "cell_type": "code",
   "execution_count": null,
   "metadata": {},
   "outputs": [],
   "source": [
    "d_tree = Classification('Decision Tree', X_train_s, X_val_s, y_train, y_val)"
   ]
  },
  {
   "cell_type": "code",
   "execution_count": null,
   "metadata": {},
   "outputs": [],
   "source": [
    "param_grid = {'max_depth':[1,10,100,1000],'min_samples_leaf':[1,10,100,1000]}\n",
    "d_tree.get_scores(param_grid, skf)"
   ]
  },
  {
   "cell_type": "code",
   "execution_count": null,
   "metadata": {},
   "outputs": [],
   "source": [
    "d_tree.opt_plots()"
   ]
  },
  {
   "cell_type": "code",
   "execution_count": null,
   "metadata": {},
   "outputs": [],
   "source": [
    "d_tree2 = Classification('Decision Tree', X_train_s, X_val_s, y_train, y_val)"
   ]
  },
  {
   "cell_type": "code",
   "execution_count": null,
   "metadata": {},
   "outputs": [],
   "source": [
    "param_grid = {'max_depth':range(0,106,5),'min_samples_leaf':range(50,155,5)}\n",
    "d_tree2.get_scores(param_grid, skf)"
   ]
  },
  {
   "cell_type": "code",
   "execution_count": null,
   "metadata": {},
   "outputs": [],
   "source": [
    "d_tree2.opt_plots()"
   ]
  },
  {
   "cell_type": "code",
   "execution_count": null,
   "metadata": {},
   "outputs": [],
   "source": [
    "d_tree3 = Classification('Decision Tree', X_train_s, X_val_s, y_train, y_val)"
   ]
  },
  {
   "cell_type": "code",
   "execution_count": null,
   "metadata": {},
   "outputs": [],
   "source": [
    "param_grid = {'max_depth':range(1,11,1),'min_samples_leaf':range(25,51,1)}\n",
    "d_tree3.get_scores(param_grid, skf)"
   ]
  },
  {
   "cell_type": "code",
   "execution_count": null,
   "metadata": {},
   "outputs": [],
   "source": [
    "d_tree3.opt_plots()"
   ]
  },
  {
   "cell_type": "markdown",
   "metadata": {},
   "source": [
    "## 3.4. Random Forest"
   ]
  },
  {
   "cell_type": "code",
   "execution_count": 40,
   "metadata": {},
   "outputs": [],
   "source": [
    "rand_forr = Classification(\"Random Forest\", X_train_s, X_val_s, y_train, y_val)"
   ]
  },
  {
   "cell_type": "code",
   "execution_count": 41,
   "metadata": {},
   "outputs": [
    {
     "data": {
      "text/html": [
       "<div>\n",
       "<style scoped>\n",
       "    .dataframe tbody tr th:only-of-type {\n",
       "        vertical-align: middle;\n",
       "    }\n",
       "\n",
       "    .dataframe tbody tr th {\n",
       "        vertical-align: top;\n",
       "    }\n",
       "\n",
       "    .dataframe thead th {\n",
       "        text-align: right;\n",
       "    }\n",
       "</style>\n",
       "<table border=\"1\" class=\"dataframe\">\n",
       "  <thead>\n",
       "    <tr style=\"text-align: right;\">\n",
       "      <th></th>\n",
       "      <th>Model</th>\n",
       "      <th>Train AUC</th>\n",
       "      <th>Validation AUC</th>\n",
       "    </tr>\n",
       "  </thead>\n",
       "  <tbody>\n",
       "    <tr>\n",
       "      <td>0</td>\n",
       "      <td>Random Forest</td>\n",
       "      <td>0.988122</td>\n",
       "      <td>0.654611</td>\n",
       "    </tr>\n",
       "  </tbody>\n",
       "</table>\n",
       "</div>"
      ],
      "text/plain": [
       "           Model  Train AUC  Validation AUC\n",
       "0  Random Forest   0.988122        0.654611"
      ]
     },
     "metadata": {},
     "output_type": "display_data"
    },
    {
     "name": "stdout",
     "output_type": "stream",
     "text": [
      "The best hyperparameters are:  {'max_depth': 10, 'min_samples_leaf': 1} \n",
      "\n"
     ]
    },
    {
     "data": {
      "image/png": "[encoded data removed]",
      "text/plain": [
       "<Figure size 504x504 with 1 Axes>"
      ]
     },
     "metadata": {
      "needs_background": "light"
     },
     "output_type": "display_data"
    }
   ],
   "source": [
    "param_grid = {'max_depth':[1,10,100,1000],'min_samples_leaf':[1,10,100,1000]}\n",
    "rand_forr.get_scores(param_grid, skf)"
   ]
  },
  {
   "cell_type": "code",
   "execution_count": 42,
   "metadata": {},
   "outputs": [
    {
     "data": {
      "image/png": "[encoded data removed]",
      "text/plain": [
       "<Figure size 1080x288 with 4 Axes>"
      ]
     },
     "metadata": {
      "needs_background": "light"
     },
     "output_type": "display_data"
    }
   ],
   "source": [
    "rand_forr.opt_plots()"
   ]
  },
  {
   "cell_type": "code",
   "execution_count": 110,
   "metadata": {},
   "outputs": [],
   "source": [
    "rand_forr2 = Classification(\"Random Forest\", X_train, X_val, y_train, y_val)"
   ]
  },
  {
   "cell_type": "code",
   "execution_count": 111,
   "metadata": {},
   "outputs": [
    {
     "data": {
      "text/html": [
       "<div>\n",
       "<style scoped>\n",
       "    .dataframe tbody tr th:only-of-type {\n",
       "        vertical-align: middle;\n",
       "    }\n",
       "\n",
       "    .dataframe tbody tr th {\n",
       "        vertical-align: top;\n",
       "    }\n",
       "\n",
       "    .dataframe thead th {\n",
       "        text-align: right;\n",
       "    }\n",
       "</style>\n",
       "<table border=\"1\" class=\"dataframe\">\n",
       "  <thead>\n",
       "    <tr style=\"text-align: right;\">\n",
       "      <th></th>\n",
       "      <th>Model</th>\n",
       "      <th>Train AUC</th>\n",
       "      <th>Validation AUC</th>\n",
       "    </tr>\n",
       "  </thead>\n",
       "  <tbody>\n",
       "    <tr>\n",
       "      <td>0</td>\n",
       "      <td>Random Forest</td>\n",
       "      <td>0.999608</td>\n",
       "      <td>0.702757</td>\n",
       "    </tr>\n",
       "  </tbody>\n",
       "</table>\n",
       "</div>"
      ],
      "text/plain": [
       "           Model  Train AUC  Validation AUC\n",
       "0  Random Forest   0.999608        0.702757"
      ]
     },
     "metadata": {},
     "output_type": "display_data"
    },
    {
     "name": "stdout",
     "output_type": "stream",
     "text": [
      "The best hyperparameters are:  {'max_depth': 16, 'min_samples_leaf': 4} \n",
      "\n"
     ]
    },
    {
     "data": {
      "image/png": "[encoded data removed]",
      "text/plain": [
       "<Figure size 504x504 with 1 Axes>"
      ]
     },
     "metadata": {
      "needs_background": "light"
     },
     "output_type": "display_data"
    }
   ],
   "source": [
    "param_grid = {'max_depth':range(10,21,1),'min_samples_leaf':range(1,11,1)}\n",
    "rand_forr2.get_scores(param_grid, skf)"
   ]
  },
  {
   "cell_type": "code",
   "execution_count": 112,
   "metadata": {},
   "outputs": [
    {
     "data": {
      "image/png": "[encoded data removed]",
      "text/plain": [
       "<Figure size 1080x288 with 4 Axes>"
      ]
     },
     "metadata": {
      "needs_background": "light"
     },
     "output_type": "display_data"
    }
   ],
   "source": [
    "rand_forr2.opt_plots()"
   ]
  },
  {
   "cell_type": "markdown",
   "metadata": {},
   "source": [
    "## 3.5. Voing Classifier"
   ]
  },
  {
   "cell_type": "code",
   "execution_count": null,
   "metadata": {},
   "outputs": [],
   "source": [
    "log_reg = ('lr', log_reg1.best_model)\n",
    "svm = ('svm', svm1.best_model)\n",
    "# d_tree = ('d_tree', d_tree3.best_model)\n",
    "rand_forr = ('rand_forr', rand_forr2.best_model)\n",
    "estimators = [log_reg, svm, rand_forr]\n",
    "voting = Ensemble(\"Voting\", estimators, X_train_s, X_val_s, y_train, y_val)"
   ]
  },
  {
   "cell_type": "code",
   "execution_count": null,
   "metadata": {},
   "outputs": [],
   "source": [
    "voting.ensemble_get_scores({}, skf)"
   ]
  },
  {
   "cell_type": "markdown",
   "metadata": {},
   "source": [
    "## 3.6. Adaboost"
   ]
  },
  {
   "cell_type": "code",
   "execution_count": null,
   "metadata": {},
   "outputs": [],
   "source": [
    "estimators = log_reg1.best_model\n",
    "adaboost1 = Ensemble(\"AdaBoost\", estimators, X_train_s, X_val_s, y_train, y_val)"
   ]
  },
  {
   "cell_type": "code",
   "execution_count": null,
   "metadata": {},
   "outputs": [],
   "source": [
    "# adaboost1.ensemble_get_scores({}, skf)"
   ]
  },
  {
   "cell_type": "code",
   "execution_count": null,
   "metadata": {},
   "outputs": [],
   "source": [
    "estimators = svm1.best_model\n",
    "adaboost2 = Ensemble(\"AdaBoost\", estimators, X_train_s, X_val_s, y_train, y_val)"
   ]
  },
  {
   "cell_type": "code",
   "execution_count": null,
   "metadata": {},
   "outputs": [],
   "source": [
    "adaboost2.ensemble_get_scores({}, skf)"
   ]
  },
  {
   "cell_type": "code",
   "execution_count": null,
   "metadata": {},
   "outputs": [],
   "source": [
    "estimators = rand_forr2.best_model\n",
    "adaboost3 = Ensemble(\"AdaBoost\", estimators, X_train_s, X_val_s, y_train, y_val)"
   ]
  },
  {
   "cell_type": "code",
   "execution_count": null,
   "metadata": {},
   "outputs": [],
   "source": [
    "adaboost3.ensemble_get_scores({}, skf)"
   ]
  },
  {
   "cell_type": "markdown",
   "metadata": {},
   "source": [
    "## 3.7. XGBoost"
   ]
  },
  {
   "cell_type": "code",
   "execution_count": null,
   "metadata": {},
   "outputs": [],
   "source": [
    "estimators = []\n",
    "xgboost = Ensemble(\"XGBoost\", estimators, X_train, X_val, y_train, y_val)"
   ]
  },
  {
   "cell_type": "code",
   "execution_count": null,
   "metadata": {},
   "outputs": [],
   "source": [
    "xgboost.ensemble_get_scores({}, skf)"
   ]
  },
  {
   "cell_type": "markdown",
   "metadata": {},
   "source": [
    "## 3.8. Stacking Classifier"
   ]
  },
  {
   "cell_type": "code",
   "execution_count": null,
   "metadata": {},
   "outputs": [],
   "source": [
    "estimators = [('lr',log_reg1.best_model), \n",
    "              ('svm', svm1.best_model), \n",
    "              ('rnd', rand_forr2.best_model)]\n",
    "stacking = Ensemble(\"Stacking\", estimators, X_train, X_val, y_train, y_val)"
   ]
  },
  {
   "cell_type": "code",
   "execution_count": null,
   "metadata": {},
   "outputs": [],
   "source": [
    "stacking.ensemble_get_scores({}, skf)"
   ]
  },
  {
   "cell_type": "code",
   "execution_count": null,
   "metadata": {},
   "outputs": [],
   "source": [
    "stacking.best_model"
   ]
  },
  {
   "cell_type": "code",
   "execution_count": null,
   "metadata": {},
   "outputs": [],
   "source": [
    "voting.best_model.score(X_val_s, y_val)"
   ]
  },
  {
   "cell_type": "code",
   "execution_count": null,
   "metadata": {},
   "outputs": [],
   "source": [
    "stacking.best_model.score(X_val_s, y_val)"
   ]
  },
  {
   "cell_type": "code",
   "execution_count": null,
   "metadata": {},
   "outputs": [],
   "source": [
    "rand_forr2.best_model.score(X_val_s, y_val)"
   ]
  },
  {
   "cell_type": "code",
   "execution_count": null,
   "metadata": {},
   "outputs": [],
   "source": [
    "log_reg1.best_model.score(X_val_s, y_val)"
   ]
  },
  {
   "cell_type": "code",
   "execution_count": null,
   "metadata": {},
   "outputs": [],
   "source": []
  },
  {
   "cell_type": "code",
   "execution_count": null,
   "metadata": {},
   "outputs": [],
   "source": [
    "l2_reg = keras.regularizers.l2(0.0001)"
   ]
  },
  {
   "cell_type": "code",
   "execution_count": null,
   "metadata": {},
   "outputs": [],
   "source": [
    "model2 = Sequential()\n",
    "model2.add(Dense(64, activation='relu', input_dim=X_train_s.shape[1], kernel_initializer='normal', \n",
    "                 kernel_regularizer=l2_reg))\n",
    "model2.add(Dropout(rate=0.1))\n",
    "model2.add(Dense(64, activation='relu', kernel_initializer='normal', kernel_regularizer=l2_reg))\n",
    "model2.add(Dropout(rate=0.1))\n",
    "model2.add(Dense(1, activation='sigmoid'))"
   ]
  },
  {
   "cell_type": "code",
   "execution_count": null,
   "metadata": {},
   "outputs": [],
   "source": [
    "model2.summary()"
   ]
  },
  {
   "cell_type": "code",
   "execution_count": null,
   "metadata": {},
   "outputs": [],
   "source": [
    "model2.compile(loss='binary_crossentropy', optimizer='rmsprop', metrics=['accuracy'])"
   ]
  },
  {
   "cell_type": "code",
   "execution_count": null,
   "metadata": {},
   "outputs": [],
   "source": [
    "history2 = model2.fit(X_train_s, y_train, epochs=40, batch_size=16, validation_data=(X_val_s, y_val))"
   ]
  },
  {
   "cell_type": "code",
   "execution_count": null,
   "metadata": {},
   "outputs": [],
   "source": [
    "pd.DataFrame(history2.history).plot(figsize=(15,10))\n",
    "plt.grid(True)\n",
    "plt.gca().set_ylim(0,1)\n",
    "plt.show()"
   ]
  },
  {
   "cell_type": "code",
   "execution_count": null,
   "metadata": {},
   "outputs": [],
   "source": [
    "y_pred = model2.predict(X_test_s)"
   ]
  },
  {
   "cell_type": "code",
   "execution_count": null,
   "metadata": {},
   "outputs": [],
   "source": [
    "model2.evaluate(X_val_s, y_val)"
   ]
  },
  {
   "cell_type": "code",
   "execution_count": 114,
   "metadata": {},
   "outputs": [],
   "source": [
    "dump(rand_forr2.best_model, open('model.pkl', 'wb'))"
   ]
  },
  {
   "cell_type": "code",
   "execution_count": null,
   "metadata": {},
   "outputs": [],
   "source": []
  }
 ],
 "metadata": {
  "kernelspec": {
   "display_name": "Python 3",
   "language": "python",
   "name": "python3"
  },
  "language_info": {
   "codemirror_mode": {
    "name": "ipython",
    "version": 3
   },
   "file_extension": ".py",
   "mimetype": "text/x-python",
   "name": "python",
   "nbconvert_exporter": "python",
   "pygments_lexer": "ipython3",
   "version": "3.6.9"
  }
 },
 "nbformat": 4,
 "nbformat_minor": 4
}
